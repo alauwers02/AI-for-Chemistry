{
  "cells": [
    {
      "cell_type": "markdown",
      "id": "f7b6d7b6-698e-4ea2-b8e9-bad6f279fcfe",
      "metadata": {
        "id": "f7b6d7b6-698e-4ea2-b8e9-bad6f279fcfe"
      },
      "source": [
        "<a href=\"https://colab.research.google.com/github/schwallergroup/ai4chem_course/blob/main/notebooks/02%20-%20Supervised%20Learning/training_and_evaluating_ml_models.ipynb\" target=\"_parent\"><img src=\"https://colab.research.google.com/assets/colab-badge.svg\" alt=\"Open In Colab\"/></a>"
      ]
    },
    {
      "cell_type": "markdown",
      "id": "cd7ee09d-524b-4f90-ac5c-cc37187ba4c4",
      "metadata": {
        "id": "cd7ee09d-524b-4f90-ac5c-cc37187ba4c4"
      },
      "source": [
        "# Week 2 tutorial - AI 4 Chemistry\n",
        "\n",
        "## Table of content\n",
        "\n",
        "0. Relevant packages\n",
        "1. Supervised learning\n",
        "2. Regression\n",
        "3. Classification"
      ]
    },
    {
      "cell_type": "markdown",
      "id": "a15d3c35",
      "metadata": {
        "tags": [],
        "id": "a15d3c35"
      },
      "source": [
        "# 0. Relevant packages\n",
        "\n",
        "### Scikit-learn\n",
        "Scikit-learn is an open source machine learning library that supports supervised and unsupervised learning. It also provides various tools for model fitting, data preprocessing, model selection, model evaluation, and many other utilities. We will learn to use scikit-learn to do machine learning work. You can also browse the scikit-learn [user guide](https://scikit-learn.org/stable/user_guide.html) and [tutorials](https://scikit-learn.org/stable/tutorial/index.html) for additional details.\n",
        "### Essential Libraries and Tools\n",
        "Scikit-learn depends on two other Python packages, NumPy and SciPy. For plotting and interactive development, you should also install matplotlib, IPython, and the Jupyter Notebook.\n",
        "- **NumPy** is one of the fundamental packages for scientific computing in Python. In scikit-learn, the NumPy array is the fundamental data structure. Any data you’re using will have to be converted to a NumPy array.\n",
        "- **SciPy** is a collection of functions for scientific computing in Python. Scikit-learn draws from SciPy’s collection of functions for implementing its algorithms.\n",
        "- **Matplotlib** is the primary scientific plotting library in Python. It provides functions for making publication-quality visualizations such as line charts, histograms, scatter plots, and so on.\n",
        "- **Pandas** Python library for data wrangling and analysis. It can ingest from a great variety of file formats and databases, like SQL, Excel files, and comma-separated values (CSV) files.\n",
        "\n",
        "### XGBoost\n",
        "XGBoost (eXtreme Gradient Boosting) is an optimized distributed gradient boosting library designed to be highly efficient, flexible and portable. It implements machine learning algorithms under the Gradient Boosting framework. XGBoost provides a parallel tree boosting (also known as GBDT, GBM) that solve many data science problems in a fast and accurate way. You can also browse the [XGBoost Documentation](https://xgboost.readthedocs.io/en/stable/) for additional details.\n",
        "\n",
        "### DeepChem\n",
        "DeepChem is a high quality open-source toolchain that democratizes the use of deep-learning in chemistry, biology and materials science. It also provides various tools for dataset loader, splitters, molecular featurization, model construction and hyperparameter tuning. You can also browse the [DeepChem Ducumentation](https://deepchem.readthedocs.io/en/latest/) for additional details."
      ]
    },
    {
      "cell_type": "markdown",
      "id": "44fbf541",
      "metadata": {
        "id": "44fbf541"
      },
      "source": [
        "We will first install the required libraries. We also need `RDKit` library to process and analyze molecules, like calculating molecular descriptors."
      ]
    },
    {
      "cell_type": "code",
      "execution_count": 1,
      "id": "6ee96d46-2b8a-4043-8289-a5944f5311b7",
      "metadata": {
        "collapsed": true,
        "id": "6ee96d46-2b8a-4043-8289-a5944f5311b7",
        "outputId": "ad813137-5931-4a0a-e768-64e570918311",
        "colab": {
          "base_uri": "https://localhost:8080/"
        }
      },
      "outputs": [
        {
          "output_type": "stream",
          "name": "stdout",
          "text": [
            "Requirement already satisfied: numpy in /usr/local/lib/python3.11/dist-packages (1.26.4)\n",
            "Requirement already satisfied: scipy in /usr/local/lib/python3.11/dist-packages (1.13.1)\n",
            "Requirement already satisfied: matplotlib in /usr/local/lib/python3.11/dist-packages (3.10.0)\n",
            "Requirement already satisfied: scikit-learn in /usr/local/lib/python3.11/dist-packages (1.6.1)\n",
            "Requirement already satisfied: pandas in /usr/local/lib/python3.11/dist-packages (2.2.2)\n",
            "Collecting rdkit\n",
            "  Downloading rdkit-2024.9.5-cp311-cp311-manylinux_2_28_x86_64.whl.metadata (4.0 kB)\n",
            "Requirement already satisfied: xgboost in /usr/local/lib/python3.11/dist-packages (2.1.4)\n",
            "Collecting deepchem\n",
            "  Downloading deepchem-2.8.0-py3-none-any.whl.metadata (2.0 kB)\n",
            "Collecting mordred\n",
            "  Downloading mordred-1.2.0.tar.gz (128 kB)\n",
            "\u001b[2K     \u001b[90m━━━━━━━━━━━━━━━━━━━━━━━━━━━━━━━━━━━━━━━━\u001b[0m \u001b[32m128.8/128.8 kB\u001b[0m \u001b[31m1.3 MB/s\u001b[0m eta \u001b[36m0:00:00\u001b[0m\n",
            "\u001b[?25h  Preparing metadata (setup.py) ... \u001b[?25l\u001b[?25hdone\n",
            "Collecting pycm\n",
            "  Downloading pycm-4.2-py3-none-any.whl.metadata (49 kB)\n",
            "\u001b[2K     \u001b[90m━━━━━━━━━━━━━━━━━━━━━━━━━━━━━━━━━━━━━━━━\u001b[0m \u001b[32m49.9/49.9 kB\u001b[0m \u001b[31m2.6 MB/s\u001b[0m eta \u001b[36m0:00:00\u001b[0m\n",
            "\u001b[?25hRequirement already satisfied: contourpy>=1.0.1 in /usr/local/lib/python3.11/dist-packages (from matplotlib) (1.3.1)\n",
            "Requirement already satisfied: cycler>=0.10 in /usr/local/lib/python3.11/dist-packages (from matplotlib) (0.12.1)\n",
            "Requirement already satisfied: fonttools>=4.22.0 in /usr/local/lib/python3.11/dist-packages (from matplotlib) (4.56.0)\n",
            "Requirement already satisfied: kiwisolver>=1.3.1 in /usr/local/lib/python3.11/dist-packages (from matplotlib) (1.4.8)\n",
            "Requirement already satisfied: packaging>=20.0 in /usr/local/lib/python3.11/dist-packages (from matplotlib) (24.2)\n",
            "Requirement already satisfied: pillow>=8 in /usr/local/lib/python3.11/dist-packages (from matplotlib) (11.1.0)\n",
            "Requirement already satisfied: pyparsing>=2.3.1 in /usr/local/lib/python3.11/dist-packages (from matplotlib) (3.2.1)\n",
            "Requirement already satisfied: python-dateutil>=2.7 in /usr/local/lib/python3.11/dist-packages (from matplotlib) (2.8.2)\n",
            "Requirement already satisfied: joblib>=1.2.0 in /usr/local/lib/python3.11/dist-packages (from scikit-learn) (1.4.2)\n",
            "Requirement already satisfied: threadpoolctl>=3.1.0 in /usr/local/lib/python3.11/dist-packages (from scikit-learn) (3.5.0)\n",
            "Requirement already satisfied: pytz>=2020.1 in /usr/local/lib/python3.11/dist-packages (from pandas) (2025.1)\n",
            "Requirement already satisfied: tzdata>=2022.7 in /usr/local/lib/python3.11/dist-packages (from pandas) (2025.1)\n",
            "Requirement already satisfied: nvidia-nccl-cu12 in /usr/local/lib/python3.11/dist-packages (from xgboost) (2.21.5)\n",
            "Requirement already satisfied: sympy in /usr/local/lib/python3.11/dist-packages (from deepchem) (1.13.1)\n",
            "Requirement already satisfied: six==1.* in /usr/local/lib/python3.11/dist-packages (from mordred) (1.17.0)\n",
            "Collecting networkx==2.* (from mordred)\n",
            "  Downloading networkx-2.8.8-py3-none-any.whl.metadata (5.1 kB)\n",
            "Collecting art>=1.8 (from pycm)\n",
            "  Downloading art-6.4-py3-none-any.whl.metadata (71 kB)\n",
            "\u001b[2K     \u001b[90m━━━━━━━━━━━━━━━━━━━━━━━━━━━━━━━━━━━━━━━━\u001b[0m \u001b[32m71.6/71.6 kB\u001b[0m \u001b[31m2.7 MB/s\u001b[0m eta \u001b[36m0:00:00\u001b[0m\n",
            "\u001b[?25hRequirement already satisfied: mpmath<1.4,>=1.1.0 in /usr/local/lib/python3.11/dist-packages (from sympy->deepchem) (1.3.0)\n",
            "Downloading rdkit-2024.9.5-cp311-cp311-manylinux_2_28_x86_64.whl (34.3 MB)\n",
            "\u001b[2K   \u001b[90m━━━━━━━━━━━━━━━━━━━━━━━━━━━━━━━━━━━━━━━━\u001b[0m \u001b[32m34.3/34.3 MB\u001b[0m \u001b[31m18.2 MB/s\u001b[0m eta \u001b[36m0:00:00\u001b[0m\n",
            "\u001b[?25hDownloading deepchem-2.8.0-py3-none-any.whl (1.0 MB)\n",
            "\u001b[2K   \u001b[90m━━━━━━━━━━━━━━━━━━━━━━━━━━━━━━━━━━━━━━━━\u001b[0m \u001b[32m1.0/1.0 MB\u001b[0m \u001b[31m27.2 MB/s\u001b[0m eta \u001b[36m0:00:00\u001b[0m\n",
            "\u001b[?25hDownloading networkx-2.8.8-py3-none-any.whl (2.0 MB)\n",
            "\u001b[2K   \u001b[90m━━━━━━━━━━━━━━━━━━━━━━━━━━━━━━━━━━━━━━━━\u001b[0m \u001b[32m2.0/2.0 MB\u001b[0m \u001b[31m25.8 MB/s\u001b[0m eta \u001b[36m0:00:00\u001b[0m\n",
            "\u001b[?25hDownloading pycm-4.2-py3-none-any.whl (70 kB)\n",
            "\u001b[2K   \u001b[90m━━━━━━━━━━━━━━━━━━━━━━━━━━━━━━━━━━━━━━━━\u001b[0m \u001b[32m70.6/70.6 kB\u001b[0m \u001b[31m4.0 MB/s\u001b[0m eta \u001b[36m0:00:00\u001b[0m\n",
            "\u001b[?25hDownloading art-6.4-py3-none-any.whl (608 kB)\n",
            "\u001b[2K   \u001b[90m━━━━━━━━━━━━━━━━━━━━━━━━━━━━━━━━━━━━━━━━\u001b[0m \u001b[32m608.6/608.6 kB\u001b[0m \u001b[31m22.7 MB/s\u001b[0m eta \u001b[36m0:00:00\u001b[0m\n",
            "\u001b[?25hBuilding wheels for collected packages: mordred\n",
            "  Building wheel for mordred (setup.py) ... \u001b[?25l\u001b[?25hdone\n",
            "  Created wheel for mordred: filename=mordred-1.2.0-py3-none-any.whl size=176718 sha256=f6192676bfbe666348ba4c6305b2c88fd84bccfe850f9d771ffd92f125e513dc\n",
            "  Stored in directory: /root/.cache/pip/wheels/8b/30/0b/84e3f6775306e74cf5957ee4d16b10bf3927dcec44cc23d5f2\n",
            "Successfully built mordred\n",
            "Installing collected packages: rdkit, networkx, art, pycm, mordred, deepchem\n",
            "  Attempting uninstall: networkx\n",
            "    Found existing installation: networkx 3.4.2\n",
            "    Uninstalling networkx-3.4.2:\n",
            "      Successfully uninstalled networkx-3.4.2\n",
            "\u001b[31mERROR: pip's dependency resolver does not currently take into account all the packages that are installed. This behaviour is the source of the following dependency conflicts.\n",
            "torch 2.5.1+cu124 requires nvidia-cublas-cu12==12.4.5.8; platform_system == \"Linux\" and platform_machine == \"x86_64\", but you have nvidia-cublas-cu12 12.5.3.2 which is incompatible.\n",
            "torch 2.5.1+cu124 requires nvidia-cuda-cupti-cu12==12.4.127; platform_system == \"Linux\" and platform_machine == \"x86_64\", but you have nvidia-cuda-cupti-cu12 12.5.82 which is incompatible.\n",
            "torch 2.5.1+cu124 requires nvidia-cuda-nvrtc-cu12==12.4.127; platform_system == \"Linux\" and platform_machine == \"x86_64\", but you have nvidia-cuda-nvrtc-cu12 12.5.82 which is incompatible.\n",
            "torch 2.5.1+cu124 requires nvidia-cuda-runtime-cu12==12.4.127; platform_system == \"Linux\" and platform_machine == \"x86_64\", but you have nvidia-cuda-runtime-cu12 12.5.82 which is incompatible.\n",
            "torch 2.5.1+cu124 requires nvidia-cudnn-cu12==9.1.0.70; platform_system == \"Linux\" and platform_machine == \"x86_64\", but you have nvidia-cudnn-cu12 9.3.0.75 which is incompatible.\n",
            "torch 2.5.1+cu124 requires nvidia-cufft-cu12==11.2.1.3; platform_system == \"Linux\" and platform_machine == \"x86_64\", but you have nvidia-cufft-cu12 11.2.3.61 which is incompatible.\n",
            "torch 2.5.1+cu124 requires nvidia-curand-cu12==10.3.5.147; platform_system == \"Linux\" and platform_machine == \"x86_64\", but you have nvidia-curand-cu12 10.3.6.82 which is incompatible.\n",
            "torch 2.5.1+cu124 requires nvidia-cusolver-cu12==11.6.1.9; platform_system == \"Linux\" and platform_machine == \"x86_64\", but you have nvidia-cusolver-cu12 11.6.3.83 which is incompatible.\n",
            "torch 2.5.1+cu124 requires nvidia-cusparse-cu12==12.3.1.170; platform_system == \"Linux\" and platform_machine == \"x86_64\", but you have nvidia-cusparse-cu12 12.5.1.3 which is incompatible.\n",
            "torch 2.5.1+cu124 requires nvidia-nvjitlink-cu12==12.4.127; platform_system == \"Linux\" and platform_machine == \"x86_64\", but you have nvidia-nvjitlink-cu12 12.5.82 which is incompatible.\n",
            "nx-cugraph-cu12 24.12.0 requires networkx>=3.2, but you have networkx 2.8.8 which is incompatible.\n",
            "scikit-image 0.25.2 requires networkx>=3.0, but you have networkx 2.8.8 which is incompatible.\u001b[0m\u001b[31m\n",
            "\u001b[0mSuccessfully installed art-6.4 deepchem-2.8.0 mordred-1.2.0 networkx-2.8.8 pycm-4.2 rdkit-2024.9.5\n",
            "--2025-03-05 08:52:02--  https://raw.githubusercontent.com/schwallergroup/ai4chem_course/main/notebooks/02%20-%20Supervised%20Learning/data/esol.csv\n",
            "Resolving raw.githubusercontent.com (raw.githubusercontent.com)... 185.199.108.133, 185.199.109.133, 185.199.110.133, ...\n",
            "Connecting to raw.githubusercontent.com (raw.githubusercontent.com)|185.199.108.133|:443... connected.\n",
            "HTTP request sent, awaiting response... 200 OK\n",
            "Length: 34453 (34K) [text/plain]\n",
            "Saving to: ‘data/esol.csv’\n",
            "\n",
            "data/esol.csv       100%[===================>]  33.65K  --.-KB/s    in 0.02s   \n",
            "\n",
            "2025-03-05 08:52:02 (1.39 MB/s) - ‘data/esol.csv’ saved [34453/34453]\n",
            "\n",
            "--2025-03-05 08:52:02--  https://raw.githubusercontent.com/schwallergroup/ai4chem_course/main/notebooks/02%20-%20Supervised%20Learning/data/toxcast_data.csv\n",
            "Resolving raw.githubusercontent.com (raw.githubusercontent.com)... 185.199.108.133, 185.199.109.133, 185.199.110.133, ...\n",
            "Connecting to raw.githubusercontent.com (raw.githubusercontent.com)|185.199.108.133|:443... connected.\n",
            "HTTP request sent, awaiting response... 200 OK\n",
            "Length: 10281259 (9.8M) [text/plain]\n",
            "Saving to: ‘data/toxcast_data.csv’\n",
            "\n",
            "data/toxcast_data.c 100%[===================>]   9.80M  44.7MB/s    in 0.2s    \n",
            "\n",
            "2025-03-05 08:52:03 (44.7 MB/s) - ‘data/toxcast_data.csv’ saved [10281259/10281259]\n",
            "\n",
            "--2025-03-05 08:52:03--  https://drive.switch.ch/index.php/s/3WJTVB7xHG8ZOhD/download\n",
            "Resolving drive.switch.ch (drive.switch.ch)... 86.119.34.138, 86.119.34.137, 2001:620:5ca1:1ee::12, ...\n",
            "Connecting to drive.switch.ch (drive.switch.ch)|86.119.34.138|:443... connected.\n",
            "HTTP request sent, awaiting response... 200 OK\n",
            "Length: 102354656 (98M) [application/octet-stream]\n",
            "Saving to: ‘data/features_tox.npy’\n",
            "\n",
            "data/features_tox.n 100%[===================>]  97.61M  21.7MB/s    in 5.3s    \n",
            "\n",
            "2025-03-05 08:52:09 (18.5 MB/s) - ‘data/features_tox.npy’ saved [102354656/102354656]\n",
            "\n",
            "--2025-03-05 08:52:09--  https://drive.switch.ch/index.php/s/lFN8myikJekptjk/download\n",
            "Resolving drive.switch.ch (drive.switch.ch)... 86.119.34.138, 86.119.34.137, 2001:620:5ca1:1ee::12, ...\n",
            "Connecting to drive.switch.ch (drive.switch.ch)|86.119.34.138|:443... connected.\n",
            "HTTP request sent, awaiting response... 200 OK\n",
            "Length: 63584 (62K) [application/octet-stream]\n",
            "Saving to: ‘data/y_tox.npy’\n",
            "\n",
            "data/y_tox.npy      100%[===================>]  62.09K   249KB/s    in 0.2s    \n",
            "\n",
            "2025-03-05 08:52:10 (249 KB/s) - ‘data/y_tox.npy’ saved [63584/63584]\n",
            "\n"
          ]
        }
      ],
      "source": [
        "# Install all libraries\n",
        "!pip install numpy scipy matplotlib scikit-learn pandas rdkit xgboost deepchem mordred pycm\n",
        "\n",
        "# Download all data\n",
        "!mkdir data\n",
        "!wget https://raw.githubusercontent.com/schwallergroup/ai4chem_course/main/notebooks/02%20-%20Supervised%20Learning/data/esol.csv -O data/esol.csv\n",
        "!wget https://raw.githubusercontent.com/schwallergroup/ai4chem_course/main/notebooks/02%20-%20Supervised%20Learning/data/toxcast_data.csv -O data/toxcast_data.csv\n",
        "!wget https://drive.switch.ch/index.php/s/3WJTVB7xHG8ZOhD/download -O data/features_tox.npy\n",
        "!wget https://drive.switch.ch/index.php/s/lFN8myikJekptjk/download -O data/y_tox.npy"
      ]
    },
    {
      "cell_type": "markdown",
      "id": "0dba2fc2",
      "metadata": {
        "id": "0dba2fc2"
      },
      "source": [
        "# 1. Supervised learning\n",
        "Two major types of supervised machine learning problems:\n",
        "- **Classification**, where the task task is to predict a class label (e.g. what color, what smell, state of aggregation, etc).\n",
        "- **Regression**, where the task is to predict a real number (e.g. solubility in water, yield, selectivity, etc).\n",
        "\n",
        "## 1.1 Algorithms\n",
        "- k-Nearest Neighbors (k-NN)\n",
        "- Linear Models\n",
        "- Support Vector Machines (SVM)\n",
        "- Decision Trees\n",
        "- Ensembles of Decision Trees\n",
        "  - Random forests\n",
        "  - Gradient boosting machines\n",
        "\n",
        "The package [scikit-learn](https://scikit-learn.org/stable/index.html) lets us create a large number ML models in a very conveinent way."
      ]
    },
    {
      "cell_type": "code",
      "execution_count": 2,
      "id": "86793e89",
      "metadata": {
        "id": "86793e89"
      },
      "outputs": [],
      "source": [
        "# linear regressor\n",
        "from sklearn.linear_model import LinearRegression\n",
        "lin_reg = LinearRegression()"
      ]
    },
    {
      "cell_type": "markdown",
      "id": "18fd6e5e-2960-4446-8a57-920f0e324129",
      "metadata": {
        "id": "18fd6e5e-2960-4446-8a57-920f0e324129"
      },
      "source": [
        "### Exercise: Similarly to the linear regression model above, create a [k-NN regression model](https://scikit-learn.org/stable/modules/generated/sklearn.neighbors.KNeighborsRegressor.html) using scikit-learn."
      ]
    },
    {
      "cell_type": "code",
      "execution_count": 3,
      "id": "26f1caf4",
      "metadata": {
        "id": "26f1caf4"
      },
      "outputs": [],
      "source": [
        "### YOUR CODE\n",
        "\n",
        "# import\n",
        "from sklearn.neighbors import KNeighborsRegressor\n",
        "\n",
        "# create knn model\n",
        "knn_clf = KNeighborsRegressor()\n",
        "\n",
        "### END"
      ]
    },
    {
      "cell_type": "markdown",
      "id": "3441adba",
      "metadata": {
        "id": "3441adba"
      },
      "source": [
        "Next time, you can browse the scikit-learn [user guide](https://scikit-learn.org/stable/user_guide.html) to learn about supported algorithms and how to create the model you want."
      ]
    },
    {
      "cell_type": "markdown",
      "id": "d7bd577f-19c7-4121-b0c7-753f1e500356",
      "metadata": {
        "id": "d7bd577f-19c7-4121-b0c7-753f1e500356"
      },
      "source": [
        "## 1.2 Model evaluation and data splitting\n",
        "\n",
        "### Why do we need to split the dataset?\n",
        "\n",
        "We want models to learn from data so we can use them in the future, but we also need to know how good our models perform when they see new examples, and so we reserve some part of our dataset for `testing`: we keep it to evaluate how the model would do the real world, with data it hasn't seen before.\n",
        "\n",
        "In addition, typically we implement multiple models and select the best one, but how to assess which one is the best, without revealing the `test set`? Well, take another subset of the data, and this one we call `validation` set.\n",
        "\n",
        "In the end, we end up splitting our data into `training` (used for training the models), `validation` (for selecting the models), and `test` (for testing the resulting models). If you have more time, you can read [this article](https://towardsdatascience.com/how-to-split-data-into-three-sets-train-validation-and-test-and-why-e50d22d3e54c) for more details.\n",
        "\n",
        "### Evaluation metrics\n",
        "The metrics used to evaluate the ML models are very important. The choice of metrics to use influences how model performance is measured and compared. The main evaluation metrics for regression and classification tasks are illustrated below. If you have more time, you can read this [article](https://blog.knoldus.com/model-evaluation-metrics-for-machine-learning-algorithms/) for more details.\n",
        "\n",
        "<div align=\"center\">\n",
        "<img src=\"https://www.oreilly.com/api/v2/epubs/9781492073048/files/assets/mlbf_0407.png\" width=\"500\"/>\n",
        "</div>"
      ]
    },
    {
      "cell_type": "markdown",
      "id": "6a633f2c",
      "metadata": {
        "id": "6a633f2c"
      },
      "source": [
        "## 1.3 The path to a ML model.\n",
        "0. Define the task\n",
        "1. Prepare data & split data\n",
        "2. Choose the model\n",
        "3. Train the model\n",
        "4. Evaluate the model\n",
        "5. Use the model"
      ]
    },
    {
      "cell_type": "markdown",
      "id": "048efaf2",
      "metadata": {
        "id": "048efaf2"
      },
      "source": [
        "# 2. Regression\n",
        "\n",
        "**Aqueous solubility is one of the key physical properties of interest to a medicinal or agrochemical chemist**. Solubility affects the uptake/distribution of biologically active compounds in living material and the environment, thus affecting their potential efficacy and marketability. However, solubility determination is a time-consuming experiment, and it is useful to be able to assess solubility in the absence of a physical sample.\n",
        "\n",
        "Our goal here will be to build a ML model that can predict **aqueous solubility** of organic molecules.\n",
        "\n",
        "### We will use the [ESOL dataset](https://pubs.acs.org/doi/10.1021/ci034243x) for this task.\n",
        "This dataset contains structures and water solubility data for 1128 compounds."
      ]
    },
    {
      "cell_type": "markdown",
      "id": "cf98acc5",
      "metadata": {
        "id": "cf98acc5"
      },
      "source": [
        "### Load dataset"
      ]
    },
    {
      "cell_type": "code",
      "execution_count": 4,
      "id": "bf79eb55",
      "metadata": {
        "id": "bf79eb55",
        "outputId": "f15dfdf7-30db-4389-a8c1-360857d1338c",
        "colab": {
          "base_uri": "https://localhost:8080/",
          "height": 206
        }
      },
      "outputs": [
        {
          "output_type": "execute_result",
          "data": {
            "text/plain": [
              "                                      smiles  log solubility (mol/L)\n",
              "909                              NC(N)=NC#N                    -0.31\n",
              "500  CCOP(=S)(OCC)SC(CCl)N2C(=O)c1ccccc1C2=O                   -6.34\n",
              "478                                 CCCC(C)C                   -3.74\n",
              "265       OC(Cn1cncn1)(c2ccc(F)cc2)c3ccccc3F                   -3.37\n",
              "916                        c2ccc1[nH]ncc1c2                    -2.16"
            ],
            "text/html": [
              "\n",
              "  <div id=\"df-d1fc8a7e-8a35-4315-9ce0-bd594e6ecf9c\" class=\"colab-df-container\">\n",
              "    <div>\n",
              "<style scoped>\n",
              "    .dataframe tbody tr th:only-of-type {\n",
              "        vertical-align: middle;\n",
              "    }\n",
              "\n",
              "    .dataframe tbody tr th {\n",
              "        vertical-align: top;\n",
              "    }\n",
              "\n",
              "    .dataframe thead th {\n",
              "        text-align: right;\n",
              "    }\n",
              "</style>\n",
              "<table border=\"1\" class=\"dataframe\">\n",
              "  <thead>\n",
              "    <tr style=\"text-align: right;\">\n",
              "      <th></th>\n",
              "      <th>smiles</th>\n",
              "      <th>log solubility (mol/L)</th>\n",
              "    </tr>\n",
              "  </thead>\n",
              "  <tbody>\n",
              "    <tr>\n",
              "      <th>909</th>\n",
              "      <td>NC(N)=NC#N</td>\n",
              "      <td>-0.31</td>\n",
              "    </tr>\n",
              "    <tr>\n",
              "      <th>500</th>\n",
              "      <td>CCOP(=S)(OCC)SC(CCl)N2C(=O)c1ccccc1C2=O</td>\n",
              "      <td>-6.34</td>\n",
              "    </tr>\n",
              "    <tr>\n",
              "      <th>478</th>\n",
              "      <td>CCCC(C)C</td>\n",
              "      <td>-3.74</td>\n",
              "    </tr>\n",
              "    <tr>\n",
              "      <th>265</th>\n",
              "      <td>OC(Cn1cncn1)(c2ccc(F)cc2)c3ccccc3F</td>\n",
              "      <td>-3.37</td>\n",
              "    </tr>\n",
              "    <tr>\n",
              "      <th>916</th>\n",
              "      <td>c2ccc1[nH]ncc1c2</td>\n",
              "      <td>-2.16</td>\n",
              "    </tr>\n",
              "  </tbody>\n",
              "</table>\n",
              "</div>\n",
              "    <div class=\"colab-df-buttons\">\n",
              "\n",
              "  <div class=\"colab-df-container\">\n",
              "    <button class=\"colab-df-convert\" onclick=\"convertToInteractive('df-d1fc8a7e-8a35-4315-9ce0-bd594e6ecf9c')\"\n",
              "            title=\"Convert this dataframe to an interactive table.\"\n",
              "            style=\"display:none;\">\n",
              "\n",
              "  <svg xmlns=\"http://www.w3.org/2000/svg\" height=\"24px\" viewBox=\"0 -960 960 960\">\n",
              "    <path d=\"M120-120v-720h720v720H120Zm60-500h600v-160H180v160Zm220 220h160v-160H400v160Zm0 220h160v-160H400v160ZM180-400h160v-160H180v160Zm440 0h160v-160H620v160ZM180-180h160v-160H180v160Zm440 0h160v-160H620v160Z\"/>\n",
              "  </svg>\n",
              "    </button>\n",
              "\n",
              "  <style>\n",
              "    .colab-df-container {\n",
              "      display:flex;\n",
              "      gap: 12px;\n",
              "    }\n",
              "\n",
              "    .colab-df-convert {\n",
              "      background-color: #E8F0FE;\n",
              "      border: none;\n",
              "      border-radius: 50%;\n",
              "      cursor: pointer;\n",
              "      display: none;\n",
              "      fill: #1967D2;\n",
              "      height: 32px;\n",
              "      padding: 0 0 0 0;\n",
              "      width: 32px;\n",
              "    }\n",
              "\n",
              "    .colab-df-convert:hover {\n",
              "      background-color: #E2EBFA;\n",
              "      box-shadow: 0px 1px 2px rgba(60, 64, 67, 0.3), 0px 1px 3px 1px rgba(60, 64, 67, 0.15);\n",
              "      fill: #174EA6;\n",
              "    }\n",
              "\n",
              "    .colab-df-buttons div {\n",
              "      margin-bottom: 4px;\n",
              "    }\n",
              "\n",
              "    [theme=dark] .colab-df-convert {\n",
              "      background-color: #3B4455;\n",
              "      fill: #D2E3FC;\n",
              "    }\n",
              "\n",
              "    [theme=dark] .colab-df-convert:hover {\n",
              "      background-color: #434B5C;\n",
              "      box-shadow: 0px 1px 3px 1px rgba(0, 0, 0, 0.15);\n",
              "      filter: drop-shadow(0px 1px 2px rgba(0, 0, 0, 0.3));\n",
              "      fill: #FFFFFF;\n",
              "    }\n",
              "  </style>\n",
              "\n",
              "    <script>\n",
              "      const buttonEl =\n",
              "        document.querySelector('#df-d1fc8a7e-8a35-4315-9ce0-bd594e6ecf9c button.colab-df-convert');\n",
              "      buttonEl.style.display =\n",
              "        google.colab.kernel.accessAllowed ? 'block' : 'none';\n",
              "\n",
              "      async function convertToInteractive(key) {\n",
              "        const element = document.querySelector('#df-d1fc8a7e-8a35-4315-9ce0-bd594e6ecf9c');\n",
              "        const dataTable =\n",
              "          await google.colab.kernel.invokeFunction('convertToInteractive',\n",
              "                                                    [key], {});\n",
              "        if (!dataTable) return;\n",
              "\n",
              "        const docLinkHtml = 'Like what you see? Visit the ' +\n",
              "          '<a target=\"_blank\" href=https://colab.research.google.com/notebooks/data_table.ipynb>data table notebook</a>'\n",
              "          + ' to learn more about interactive tables.';\n",
              "        element.innerHTML = '';\n",
              "        dataTable['output_type'] = 'display_data';\n",
              "        await google.colab.output.renderOutput(dataTable, element);\n",
              "        const docLink = document.createElement('div');\n",
              "        docLink.innerHTML = docLinkHtml;\n",
              "        element.appendChild(docLink);\n",
              "      }\n",
              "    </script>\n",
              "  </div>\n",
              "\n",
              "\n",
              "<div id=\"df-6c128137-4f16-4f64-9608-3eefda0e274b\">\n",
              "  <button class=\"colab-df-quickchart\" onclick=\"quickchart('df-6c128137-4f16-4f64-9608-3eefda0e274b')\"\n",
              "            title=\"Suggest charts\"\n",
              "            style=\"display:none;\">\n",
              "\n",
              "<svg xmlns=\"http://www.w3.org/2000/svg\" height=\"24px\"viewBox=\"0 0 24 24\"\n",
              "     width=\"24px\">\n",
              "    <g>\n",
              "        <path d=\"M19 3H5c-1.1 0-2 .9-2 2v14c0 1.1.9 2 2 2h14c1.1 0 2-.9 2-2V5c0-1.1-.9-2-2-2zM9 17H7v-7h2v7zm4 0h-2V7h2v10zm4 0h-2v-4h2v4z\"/>\n",
              "    </g>\n",
              "</svg>\n",
              "  </button>\n",
              "\n",
              "<style>\n",
              "  .colab-df-quickchart {\n",
              "      --bg-color: #E8F0FE;\n",
              "      --fill-color: #1967D2;\n",
              "      --hover-bg-color: #E2EBFA;\n",
              "      --hover-fill-color: #174EA6;\n",
              "      --disabled-fill-color: #AAA;\n",
              "      --disabled-bg-color: #DDD;\n",
              "  }\n",
              "\n",
              "  [theme=dark] .colab-df-quickchart {\n",
              "      --bg-color: #3B4455;\n",
              "      --fill-color: #D2E3FC;\n",
              "      --hover-bg-color: #434B5C;\n",
              "      --hover-fill-color: #FFFFFF;\n",
              "      --disabled-bg-color: #3B4455;\n",
              "      --disabled-fill-color: #666;\n",
              "  }\n",
              "\n",
              "  .colab-df-quickchart {\n",
              "    background-color: var(--bg-color);\n",
              "    border: none;\n",
              "    border-radius: 50%;\n",
              "    cursor: pointer;\n",
              "    display: none;\n",
              "    fill: var(--fill-color);\n",
              "    height: 32px;\n",
              "    padding: 0;\n",
              "    width: 32px;\n",
              "  }\n",
              "\n",
              "  .colab-df-quickchart:hover {\n",
              "    background-color: var(--hover-bg-color);\n",
              "    box-shadow: 0 1px 2px rgba(60, 64, 67, 0.3), 0 1px 3px 1px rgba(60, 64, 67, 0.15);\n",
              "    fill: var(--button-hover-fill-color);\n",
              "  }\n",
              "\n",
              "  .colab-df-quickchart-complete:disabled,\n",
              "  .colab-df-quickchart-complete:disabled:hover {\n",
              "    background-color: var(--disabled-bg-color);\n",
              "    fill: var(--disabled-fill-color);\n",
              "    box-shadow: none;\n",
              "  }\n",
              "\n",
              "  .colab-df-spinner {\n",
              "    border: 2px solid var(--fill-color);\n",
              "    border-color: transparent;\n",
              "    border-bottom-color: var(--fill-color);\n",
              "    animation:\n",
              "      spin 1s steps(1) infinite;\n",
              "  }\n",
              "\n",
              "  @keyframes spin {\n",
              "    0% {\n",
              "      border-color: transparent;\n",
              "      border-bottom-color: var(--fill-color);\n",
              "      border-left-color: var(--fill-color);\n",
              "    }\n",
              "    20% {\n",
              "      border-color: transparent;\n",
              "      border-left-color: var(--fill-color);\n",
              "      border-top-color: var(--fill-color);\n",
              "    }\n",
              "    30% {\n",
              "      border-color: transparent;\n",
              "      border-left-color: var(--fill-color);\n",
              "      border-top-color: var(--fill-color);\n",
              "      border-right-color: var(--fill-color);\n",
              "    }\n",
              "    40% {\n",
              "      border-color: transparent;\n",
              "      border-right-color: var(--fill-color);\n",
              "      border-top-color: var(--fill-color);\n",
              "    }\n",
              "    60% {\n",
              "      border-color: transparent;\n",
              "      border-right-color: var(--fill-color);\n",
              "    }\n",
              "    80% {\n",
              "      border-color: transparent;\n",
              "      border-right-color: var(--fill-color);\n",
              "      border-bottom-color: var(--fill-color);\n",
              "    }\n",
              "    90% {\n",
              "      border-color: transparent;\n",
              "      border-bottom-color: var(--fill-color);\n",
              "    }\n",
              "  }\n",
              "</style>\n",
              "\n",
              "  <script>\n",
              "    async function quickchart(key) {\n",
              "      const quickchartButtonEl =\n",
              "        document.querySelector('#' + key + ' button');\n",
              "      quickchartButtonEl.disabled = true;  // To prevent multiple clicks.\n",
              "      quickchartButtonEl.classList.add('colab-df-spinner');\n",
              "      try {\n",
              "        const charts = await google.colab.kernel.invokeFunction(\n",
              "            'suggestCharts', [key], {});\n",
              "      } catch (error) {\n",
              "        console.error('Error during call to suggestCharts:', error);\n",
              "      }\n",
              "      quickchartButtonEl.classList.remove('colab-df-spinner');\n",
              "      quickchartButtonEl.classList.add('colab-df-quickchart-complete');\n",
              "    }\n",
              "    (() => {\n",
              "      let quickchartButtonEl =\n",
              "        document.querySelector('#df-6c128137-4f16-4f64-9608-3eefda0e274b button');\n",
              "      quickchartButtonEl.style.display =\n",
              "        google.colab.kernel.accessAllowed ? 'block' : 'none';\n",
              "    })();\n",
              "  </script>\n",
              "</div>\n",
              "\n",
              "    </div>\n",
              "  </div>\n"
            ],
            "application/vnd.google.colaboratory.intrinsic+json": {
              "type": "dataframe",
              "summary": "{\n  \"name\": \"esol_df\",\n  \"rows\": 5,\n  \"fields\": [\n    {\n      \"column\": \"smiles\",\n      \"properties\": {\n        \"dtype\": \"string\",\n        \"num_unique_values\": 5,\n        \"samples\": [\n          \"CCOP(=S)(OCC)SC(CCl)N2C(=O)c1ccccc1C2=O\",\n          \"c2ccc1[nH]ncc1c2 \",\n          \"CCCC(C)C\"\n        ],\n        \"semantic_type\": \"\",\n        \"description\": \"\"\n      }\n    },\n    {\n      \"column\": \"log solubility (mol/L)\",\n      \"properties\": {\n        \"dtype\": \"number\",\n        \"std\": 2.2143012441851715,\n        \"min\": -6.34,\n        \"max\": -0.31,\n        \"num_unique_values\": 5,\n        \"samples\": [\n          -6.34,\n          -2.16,\n          -3.74\n        ],\n        \"semantic_type\": \"\",\n        \"description\": \"\"\n      }\n    }\n  ]\n}"
            }
          },
          "metadata": {},
          "execution_count": 4
        }
      ],
      "source": [
        "import pandas as pd\n",
        "\n",
        "# load dataset from the CSV file\n",
        "esol_df = pd.read_csv('data/esol.csv')\n",
        "esol_df.sample(5)"
      ]
    },
    {
      "cell_type": "markdown",
      "id": "794e236d",
      "metadata": {
        "id": "794e236d"
      },
      "source": [
        "The original dataset contains 2 columns, the `smiles` column, which encodes the molecular structure, and the `log solubility (mol/L)` columns represents aqueous solubility of molecules, which is the our target for this task."
      ]
    },
    {
      "cell_type": "code",
      "execution_count": 7,
      "id": "2950f29b",
      "metadata": {
        "id": "2950f29b",
        "outputId": "91d489bc-6811-44af-abd5-1f72d1e5d598",
        "colab": {
          "base_uri": "https://localhost:8080/"
        }
      },
      "outputs": [
        {
          "output_type": "stream",
          "name": "stdout",
          "text": [
            "[-0.77  -3.3   -2.06  ... -3.091 -3.18  -4.522]\n",
            "['OCC3OC(OCC2OC(OC(C#N)c1ccccc1)C(O)C(O)C2O)C(O)C(O)C3O '\n",
            " 'Cc1occc1C(=O)Nc2ccccc2' 'CC(C)=CCCC(C)=CC(=O)' ... 'CCSCCSP(=S)(OC)OC'\n",
            " 'CCC(C)C' 'COP(=O)(OC)OC(=CCl)c1cc(Cl)c(Cl)cc1Cl']\n"
          ]
        }
      ],
      "source": [
        "# Get NumPy arrays from DataFrame for the input and target\n",
        "smiles = esol_df['smiles'].values\n",
        "y = esol_df['log solubility (mol/L)'].values\n",
        "print(y)\n",
        "print(smiles)"
      ]
    },
    {
      "cell_type": "code",
      "source": [
        "smiles.shape"
      ],
      "metadata": {
        "id": "-NNldjnvkdyM",
        "outputId": "29a1e5e6-ebe6-471a-f6b6-3e134336e015",
        "colab": {
          "base_uri": "https://localhost:8080/"
        }
      },
      "id": "-NNldjnvkdyM",
      "execution_count": 11,
      "outputs": [
        {
          "output_type": "execute_result",
          "data": {
            "text/plain": [
              "(1128,)"
            ]
          },
          "metadata": {},
          "execution_count": 11
        }
      ]
    },
    {
      "cell_type": "markdown",
      "id": "343779ed",
      "metadata": {
        "id": "343779ed"
      },
      "source": [
        "### Molecular descriptor calculation\n",
        "We need to convert the SMILES strings of molecules into numerical values that can be used as input to the ML models. Many molecular descriptors can be calculated from SMILES strings using software like `RDKit`, `DeepChem` and [Mordred](https://github.com/mordred-descriptor/mordred).\\\n",
        "For this task we will use [DeepChem featurizers](https://deepchem.readthedocs.io/en/latest/api_reference/featurizers.html) to compute molecular descriptors."
      ]
    },
    {
      "cell_type": "code",
      "execution_count": 9,
      "id": "e5961b50",
      "metadata": {
        "id": "e5961b50",
        "outputId": "d127af92-7b43-467d-cca8-33d2fc2f27fd",
        "colab": {
          "base_uri": "https://localhost:8080/"
        }
      },
      "outputs": [
        {
          "output_type": "stream",
          "name": "stdout",
          "text": [
            "Number of generated molecular descriptors: 217\n",
            "Number of molecular descriptors without invalid values: 217\n"
          ]
        }
      ],
      "source": [
        "# Here, we use molecular descriptors from RDKit, like molecular weight, number of valence electrons, maximum and minimum partial charge, etc.\n",
        "from deepchem.feat import RDKitDescriptors\n",
        "featurizer = RDKitDescriptors()\n",
        "features = featurizer.featurize(smiles)\n",
        "print(f\"Number of generated molecular descriptors: {features.shape[1]}\")\n",
        "# Drop the features containing invalid values\n",
        "import numpy as np\n",
        "features = features[:, ~np.isnan(features).any(axis=0)]\n",
        "print(f\"Number of molecular descriptors without invalid values: {features.shape[1]}\")"
      ]
    },
    {
      "cell_type": "code",
      "source": [
        "features.shape"
      ],
      "metadata": {
        "id": "RYiyvTj5kXtH",
        "outputId": "22936a11-6849-4092-d4ce-f20d864a621b",
        "colab": {
          "base_uri": "https://localhost:8080/"
        }
      },
      "id": "RYiyvTj5kXtH",
      "execution_count": 10,
      "outputs": [
        {
          "output_type": "execute_result",
          "data": {
            "text/plain": [
              "(1128, 217)"
            ]
          },
          "metadata": {},
          "execution_count": 10
        }
      ]
    },
    {
      "cell_type": "markdown",
      "id": "8d9c63ba",
      "metadata": {
        "id": "8d9c63ba"
      },
      "source": [
        "**Exercise**: You can try to use [MACCSKeysFingerprint](https://deepchem.readthedocs.io/en/latest/api_reference/featurizers.html#maccskeysfingerprint) in [DeepChem featurizers](https://deepchem.readthedocs.io/en/latest/api_reference/featurizers.html) to compute molecular descriptors."
      ]
    },
    {
      "cell_type": "code",
      "execution_count": 21,
      "id": "09f941ad",
      "metadata": {
        "id": "09f941ad",
        "outputId": "4a1d3c7a-68b1-45cb-ec6d-100acc2c7d0c",
        "colab": {
          "base_uri": "https://localhost:8080/"
        }
      },
      "outputs": [
        {
          "output_type": "execute_result",
          "data": {
            "text/plain": [
              "(1128, 167)"
            ]
          },
          "metadata": {},
          "execution_count": 21
        }
      ],
      "source": [
        "### YOUR CODE\n",
        "\n",
        "# import the featurizer\n",
        "from deepchem.feat import MACCSKeysFingerprint\n",
        "\n",
        "# create featurizer\n",
        "mf_featurizer = MACCSKeysFingerprint()\n",
        "\n",
        "# compute molecular descriptors\n",
        "mf_features = mf_featurizer.featurize(smiles)\n",
        "mf_features.shape"
      ]
    },
    {
      "cell_type": "markdown",
      "id": "97180e44",
      "metadata": {
        "id": "97180e44"
      },
      "source": [
        "### Feature Selection\n",
        "\n",
        "Feature selection is a crucial step in machine learning that involves selecting the most relevant features (or variables) from a dataset. This process helps to improve the accuracy and efficiency of a model by reducing the amount of noise and redundancy in the data. Essentially, feature selection allows us to focus on the most important information in the dataset, while ignoring the irrelevant or redundant information.\n",
        "\n",
        "Many classes and functions in the [sklearn.feature_selection](https://scikit-learn.org/stable/modules/feature_selection.html) module can be used for feature selection.\\\n",
        "Here we show a simple feature selection using `VarianceThreshold` in `scikt-learn`."
      ]
    },
    {
      "cell_type": "code",
      "execution_count": 22,
      "id": "326fe67b",
      "metadata": {
        "id": "326fe67b",
        "outputId": "f5ddb356-8924-4a43-a6bd-4db4aeae2a08",
        "colab": {
          "base_uri": "https://localhost:8080/"
        }
      },
      "outputs": [
        {
          "output_type": "stream",
          "name": "stdout",
          "text": [
            "Number of molecular descriptors after removing zero-variance features: 198\n"
          ]
        }
      ],
      "source": [
        "# Here, we removed all zero-variance features, i.e. features that have the same value in all samples.\n",
        "from sklearn.feature_selection import VarianceThreshold\n",
        "selector = VarianceThreshold(threshold=0.0)\n",
        "features = selector.fit_transform(features)\n",
        "print(f\"Number of molecular descriptors after removing zero-variance features: {features.shape[1]}\")"
      ]
    },
    {
      "cell_type": "code",
      "source": [
        "features.shape"
      ],
      "metadata": {
        "id": "j0JXtGC0mb0s",
        "outputId": "dd33c030-6bb1-4d49-dadb-579a0617d88c",
        "colab": {
          "base_uri": "https://localhost:8080/"
        }
      },
      "id": "j0JXtGC0mb0s",
      "execution_count": 23,
      "outputs": [
        {
          "output_type": "execute_result",
          "data": {
            "text/plain": [
              "(1128, 198)"
            ]
          },
          "metadata": {},
          "execution_count": 23
        }
      ]
    },
    {
      "cell_type": "markdown",
      "id": "138076f4",
      "metadata": {
        "id": "138076f4"
      },
      "source": [
        "### Dataset split"
      ]
    },
    {
      "cell_type": "code",
      "source": [
        "type(features)"
      ],
      "metadata": {
        "id": "BbFUCo8OmzS1",
        "outputId": "92484a2d-5ac0-4579-c871-e280457f6743",
        "colab": {
          "base_uri": "https://localhost:8080/"
        }
      },
      "id": "BbFUCo8OmzS1",
      "execution_count": 24,
      "outputs": [
        {
          "output_type": "execute_result",
          "data": {
            "text/plain": [
              "numpy.ndarray"
            ]
          },
          "metadata": {},
          "execution_count": 24
        }
      ]
    },
    {
      "cell_type": "code",
      "execution_count": 27,
      "id": "fa8675b2",
      "metadata": {
        "id": "fa8675b2"
      },
      "outputs": [],
      "source": [
        "from sklearn.model_selection import train_test_split\n",
        "X = features\n",
        "# training data size : test data size = 0.8 : 0.2\n",
        "# fixed seed using the random_state parameter, so it always has the same split.\n",
        "X_train, X_test, y_train, y_test = train_test_split(\n",
        "    X, y, train_size=0.8, random_state=0)\n",
        "# y is the solubility data, x is the features"
      ]
    },
    {
      "cell_type": "markdown",
      "id": "1aa51e6b",
      "metadata": {
        "id": "1aa51e6b"
      },
      "source": [
        "### Data preprocessing\n",
        "\n",
        "As it turns out, different features have different scales and distributions.\\\n",
        "Think of molecular weight, which goes from **0 to around 1000 u.a.m. for small organic molecules**, and electrochemical potential, [typically between -3 and 3](https://par.nsf.gov/servlets/purl/10016877). These differences have a huge impact on ML models, which is the reason why we will normalize all the features.\n",
        "\n",
        "Many classes and functions in the [sklearn.preprocessing](https://scikit-learn.org/stable/modules/preprocessing.html) module can be used for preprocessing data. Here we show a simple Min-Max normalization of features using `MinMaxScaler` in `scikt-learn`."
      ]
    },
    {
      "cell_type": "code",
      "execution_count": 30,
      "id": "4b684fd7",
      "metadata": {
        "id": "4b684fd7",
        "outputId": "d5baa9fe-12dc-4e7c-80cf-72dbb55fcc7f",
        "colab": {
          "base_uri": "https://localhost:8080/"
        }
      },
      "outputs": [
        {
          "output_type": "stream",
          "name": "stdout",
          "text": [
            "[[ 2.27757879  2.12051833 -2.09070565 ...  0.          0.\n",
            "   0.51650153]\n",
            " [ 1.76997309  1.82903011 -1.86017022 ...  0.          0.\n",
            "   0.59107453]\n",
            " [ 2.73265055  2.82706132 -2.34065242 ...  0.          0.\n",
            "   0.40235565]\n",
            " ...\n",
            " [ 1.71997309  1.57372459 -1.69426173 ...  0.          0.\n",
            "   0.44262837]\n",
            " [ 2.27757879  2.12438339 -2.09021804 ...  0.          0.\n",
            "   0.51650153]\n",
            " [ 1.61433084  1.74096974 -1.88943171 ...  1.          0.\n",
            "   0.4741068 ]]\n"
          ]
        }
      ],
      "source": [
        "from sklearn.preprocessing import MinMaxScaler\n",
        "from copy import copy\n",
        "scaler = MinMaxScaler()\n",
        "scaler.fit(X_train)\n",
        "print(X_train)\n",
        "# save original X\n",
        "X_train_ori = copy(X_train)\n",
        "X_test_ori = copy(X_test)\n",
        "# transform data\n",
        "X_train = scaler.transform(X_train)\n",
        "X_test = scaler.transform(X_test)"
      ]
    },
    {
      "cell_type": "code",
      "source": [
        "print(X_train)\n",
        "print(X_test)\n",
        "print(X_train_ori)\n",
        "print(X_test_ori)"
      ],
      "metadata": {
        "collapsed": true,
        "id": "dhZCy4Pun6N4",
        "outputId": "1b1666a0-2717-4b88-e939-2636d565f5b6",
        "colab": {
          "base_uri": "https://localhost:8080/"
        }
      },
      "id": "dhZCy4Pun6N4",
      "execution_count": 32,
      "outputs": [
        {
          "output_type": "stream",
          "name": "stdout",
          "text": [
            "[[0.61995958 0.64720816 0.26348784 ... 0.         0.         0.46207603]\n",
            " [0.48178873 0.56138149 0.34782946 ... 0.         0.         0.55810521]\n",
            " [0.74383064 0.8552448  0.17204456 ... 0.         0.         0.31508802]\n",
            " ...\n",
            " [0.46817867 0.48620857 0.40852725 ... 0.         0.         0.36694804]\n",
            " [0.61995958 0.6483462  0.26366623 ... 0.         0.         0.46207603]\n",
            " [0.43942272 0.53545273 0.33712411 ... 0.04347826 0.         0.40748345]]\n",
            "[[0.32958389 0.64930771 0.23001506 ... 0.         0.         0.54767494]\n",
            " [0.50815038 0.64853765 0.36531845 ... 0.         0.         0.41032654]\n",
            " [0.24996119 0.42866295 0.49739722 ... 0.         0.         0.3277372 ]\n",
            " ...\n",
            " [0.4972117  0.59601756 0.3216816  ... 0.04347826 0.         0.46670813]\n",
            " [0.6536948  0.70501334 0.23185767 ... 0.         0.         0.91184332]\n",
            " [0.82302888 0.814559   0.24717444 ... 0.         0.         0.6855947 ]]\n",
            "[[ 2.27757879  2.12051833 -2.09070565 ...  0.          0.\n",
            "   0.51650153]\n",
            " [ 1.76997309  1.82903011 -1.86017022 ...  0.          0.\n",
            "   0.59107453]\n",
            " [ 2.73265055  2.82706132 -2.34065242 ...  0.          0.\n",
            "   0.40235565]\n",
            " ...\n",
            " [ 1.71997309  1.57372459 -1.69426173 ...  0.          0.\n",
            "   0.44262837]\n",
            " [ 2.27757879  2.12438339 -2.09021804 ...  0.          0.\n",
            "   0.51650153]\n",
            " [ 1.61433084  1.74096974 -1.88943171 ...  1.          0.\n",
            "   0.4741068 ]]\n",
            "[[ 1.21081003  2.12764893 -2.18219858 ...  0.          0.\n",
            "   0.58297473]\n",
            " [ 1.86681931  2.12503361 -1.81236665 ...  0.          0.\n",
            "   0.47631464]\n",
            " [ 0.91829583  1.37828569 -1.45134873 ...  0.          0.\n",
            "   0.41217857]\n",
            " ...\n",
            " [ 1.8266333   1.94666262 -1.93164154 ...  1.          0.\n",
            "   0.52009867]\n",
            " [ 2.40151367  2.31683878 -2.17716208 ...  0.          0.\n",
            "   0.8657755 ]\n",
            " [ 3.02360537  2.68888247 -2.13529592 ...  0.          0.\n",
            "   0.69007853]]\n"
          ]
        }
      ]
    },
    {
      "cell_type": "markdown",
      "id": "7e1e3784",
      "metadata": {
        "id": "7e1e3784"
      },
      "source": [
        "### Q: Is there a difference between doing data preprocessing before and after data split? Which one is better and why?"
      ]
    },
    {
      "cell_type": "markdown",
      "id": "394d369a",
      "metadata": {
        "id": "394d369a"
      },
      "source": [
        "### Create models"
      ]
    },
    {
      "cell_type": "code",
      "execution_count": 33,
      "id": "15b94772",
      "metadata": {
        "id": "15b94772"
      },
      "outputs": [],
      "source": [
        "# random forest regressor, and the default criterion is mean squared error (MSE)\n",
        "from sklearn.ensemble import RandomForestRegressor\n",
        "ranf_reg = RandomForestRegressor(n_estimators=10, random_state=0)  # using 10 trees and seed=0\n",
        "\n",
        "# XGBoost regressor\n",
        "from xgboost import XGBRegressor\n",
        "xgb_reg = XGBRegressor(n_estimators=10, random_state=0)  # using 10 trees and seed=0"
      ]
    },
    {
      "cell_type": "markdown",
      "id": "0b66c0b1",
      "metadata": {
        "id": "0b66c0b1"
      },
      "source": [
        "### Train and evaluate the models\n",
        "- Mean Squared Error: $MSE$ = $\\frac{1}{n} \\Sigma_{i=1}^n({y}-\\hat{y})^2$\n",
        "- Root Mean Squared Error: $RMSE$ = $\\sqrt{MSE}$ = $\\sqrt{\\frac{1}{n} \\Sigma_{i=1}^n({y}-\\hat{y})^2}$\n",
        "\n",
        "We choose `RMSE` as the evaluation metric for this task."
      ]
    },
    {
      "cell_type": "code",
      "execution_count": 34,
      "id": "68b21ecd",
      "metadata": {
        "id": "68b21ecd",
        "outputId": "b53118ac-d57e-437d-fb4f-4d4cf8d67b41",
        "colab": {
          "base_uri": "https://localhost:8080/"
        }
      },
      "outputs": [
        {
          "output_type": "stream",
          "name": "stdout",
          "text": [
            "Evaluating Random Forest Model.\n",
            "RMSE on train set: 0.281, and test set: 0.717.\n",
            "\n",
            "Evaluating XGBoost model.\n",
            "RMSE on train set: 0.285, and test set: 0.739.\n",
            "\n"
          ]
        }
      ],
      "source": [
        "from sklearn.metrics import mean_squared_error\n",
        "\n",
        "def train_test_model(model, X_train, y_train, X_test, y_test):\n",
        "    \"\"\"\n",
        "    Function that trains a model, and tests it.\n",
        "    Inputs: sklearn model, train_data, test_data\n",
        "    \"\"\"\n",
        "    # Train model\n",
        "    model.fit(X_train, y_train)\n",
        "\n",
        "    # Calculate RMSE on training\n",
        "    y_pred_train = model.predict(X_train)\n",
        "    y_pred_test = model.predict(X_test)\n",
        "    model_train_mse = mean_squared_error(y_train, y_pred_train)\n",
        "    model_test_mse = mean_squared_error(y_test, y_pred_test)\n",
        "    model_train_rmse = model_train_mse ** 0.5\n",
        "    model_test_rmse = model_test_mse ** 0.5\n",
        "    print(f\"RMSE on train set: {model_train_rmse:.3f}, and test set: {model_test_rmse:.3f}.\\n\")\n",
        "\n",
        "\n",
        "# Train and test the random forest model\n",
        "print(\"Evaluating Random Forest Model.\")\n",
        "train_test_model(ranf_reg, X_train, y_train, X_test, y_test)\n",
        "\n",
        "# Train and test XGBoost model\n",
        "print(\"Evaluating XGBoost model.\")\n",
        "train_test_model(xgb_reg, X_train, y_train, X_test, y_test)"
      ]
    },
    {
      "cell_type": "markdown",
      "id": "712c715f",
      "metadata": {
        "id": "712c715f"
      },
      "source": [
        "### Q: Compare the results. Which model is better in this case?"
      ]
    },
    {
      "cell_type": "markdown",
      "id": "209edf19",
      "metadata": {
        "id": "209edf19"
      },
      "source": [
        "**Exercise**: Try to train a [SVM model](https://scikit-learn.org/stable/modules/svm.html#regression) and evaluate it. You can create a [SVR](https://scikit-learn.org/stable/modules/generated/sklearn.svm.SVR.html#sklearn.svm.SVR) model using default parameters."
      ]
    },
    {
      "cell_type": "code",
      "execution_count": 35,
      "id": "d7746533",
      "metadata": {
        "id": "d7746533",
        "outputId": "4df06e77-3f4f-4b2d-dc4e-c570bec7d977",
        "colab": {
          "base_uri": "https://localhost:8080/"
        }
      },
      "outputs": [
        {
          "output_type": "stream",
          "name": "stdout",
          "text": [
            "RMSE on train set: 0.518, and test set: 0.726.\n",
            "\n"
          ]
        }
      ],
      "source": [
        "### YOUR CODE\n",
        "\n",
        "# import\n",
        "from sklearn.svm import SVR\n",
        "\n",
        "# create a model\n",
        "svm_reg = SVR()\n",
        "\n",
        "# train and evaluate the model\n",
        "train_test_model(svm_reg, X_train, y_train, X_test, y_test)\n",
        "#used default epsilon = 0.1, also C = 1.0\n",
        "### END"
      ]
    },
    {
      "cell_type": "markdown",
      "id": "d7de3621",
      "metadata": {
        "id": "d7de3621"
      },
      "source": [
        "Perfect! Now you have mastered training and evaluating the model you want."
      ]
    },
    {
      "cell_type": "markdown",
      "id": "304d42f3",
      "metadata": {
        "id": "304d42f3"
      },
      "source": [
        "## Cross-validation and hyperparamter optimization\n",
        "\n",
        "Our last topic in this section is hyperparameter optimization.\n",
        "\n",
        "As you've seen, models need some parameters as input, and we need to decide which are the best parameters (e.g. `n_estimators` in tree-based models). Many classes and functions in the [sklearn.model_selection](https://scikit-learn.org/stable/model_selection.html) module can be used for cross validation and hyperparameter optimization.\\\n",
        "Here, we use cross validation and grid search methods to optimize the parameters of random forest model. In cross-validation, the original training data is further split into training and validation sets.\n",
        "\n",
        "The class [GridSearchCV](https://scikit-learn.org/stable/modules/generated/sklearn.model_selection.GridSearchCV.html#sklearn.model_selection.GridSearchCV) does all the work for us, combining cross-validation with grid search, so we can very easily optimize the hyperparameters.\n",
        "\n",
        "<div align=\"center\">\n",
        "<img src=\"https://scikit-learn.org/stable/_images/grid_search_workflow.png\" width=\"400\"/>\n",
        "</div>\n",
        "\n",
        "\n",
        "<font size=5 color=\"red\">\n",
        "Note that when you call grid_search.fit(), you only pass the training data as argument.\n",
        "</font>\n",
        "Why?"
      ]
    },
    {
      "cell_type": "code",
      "execution_count": 36,
      "id": "73db8e66-7724-40c4-8876-39668793ff1f",
      "metadata": {
        "id": "73db8e66-7724-40c4-8876-39668793ff1f",
        "outputId": "df9e2bf1-64fb-41c3-e2fa-30b0d5e54f82",
        "colab": {
          "base_uri": "https://localhost:8080/"
        }
      },
      "outputs": [
        {
          "output_type": "stream",
          "name": "stdout",
          "text": [
            "Best parameters:  {'max_depth': 30, 'n_estimators': 50}\n",
            "Random forests performance after hyperparameter optimization:\n",
            "RMSE on train set: 0.243, and test set: 0.687.\n",
            "\n"
          ]
        }
      ],
      "source": [
        "from sklearn.model_selection import GridSearchCV\n",
        "\n",
        "param_grid = {'n_estimators': [50, 100],'max_depth': [5, 10, 20, 30]}\n",
        "\n",
        "# use 5-folds cross validation during grid searching\n",
        "grid_search = GridSearchCV(RandomForestRegressor(random_state=0),param_grid,cv=5)\n",
        "grid_search.fit(X_train, y_train)\n",
        "\n",
        "# re-train a model using best hyperparameters\n",
        "rf_gs = RandomForestRegressor(**grid_search.best_params_, random_state=0)\n",
        "\n",
        "print('Best parameters: ', grid_search.best_params_)\n",
        "print('Random forests performance after hyperparameter optimization:')\n",
        "train_test_model(rf_gs, X_train, y_train, X_test, y_test)"
      ]
    },
    {
      "cell_type": "markdown",
      "id": "d4224cf6",
      "metadata": {
        "id": "d4224cf6"
      },
      "source": [
        "### Exercise: Compare the train and test RMSE of Random Forest models (`ranf_reg` and `rf_gs`). Which one is better? Argument."
      ]
    },
    {
      "cell_type": "code",
      "source": [],
      "metadata": {
        "id": "JtJJMslAt1pw"
      },
      "id": "JtJJMslAt1pw",
      "execution_count": null,
      "outputs": []
    },
    {
      "cell_type": "markdown",
      "id": "6bac7560-b1c1-486c-a476-be954137b132",
      "metadata": {
        "id": "6bac7560-b1c1-486c-a476-be954137b132"
      },
      "source": [
        "---\n",
        "\n",
        "# 3. Classification\n",
        "\n",
        "We now turn our attention towards the other type of supervised learning: classification.\n",
        "\n",
        "Many questions in chemistry can be framed as a classification task:\n",
        "\n",
        "- Will this molecule act as a nucleophile or electrophile in my reaction?\n",
        "- What is the smell of this substance? (fruity, citrus, sweet, ...)\n",
        "\n",
        "But in this tutorial we will try to respond:\n",
        "\n",
        "<div>\n",
        "<img src=\"https://github.com/schwallergroup/ai4chem_course/blob/main/notebooks/02%20-%20Supervised%20Learning/img/is_this_toxic.png?raw=1\" width=\"500\"/>\n",
        "</div>\n",
        "\n",
        "\n",
        "---\n",
        "\n",
        "## For this, we need data. [MoleculeNet](https://moleculenet.org/datasets-1) provides several datasets, and we'll work with `ToxCast` for prediction of toxicity.\n",
        "\n",
        "ToxCast is a dataset containing `toxicology data for a large library of compounds based on in vitro high-throughput screening, including experiments on over 600 tasks`.\n",
        "\n",
        "Let's see if one of our models can tell what molecules are toxic!\n",
        "\n",
        "This is super useful for instance in drug discovery, where we want to know if a molecule has potential as a drug, **even before we synthesize it**.\n",
        "\n",
        "The steps we follow are similar to those we saw for regression:\n",
        "\n",
        "1. Prepare & split data\n",
        "2. Choose a model\n",
        "3. Train the model\n",
        "4. Evaluate the model\n",
        "5. Use the model"
      ]
    },
    {
      "cell_type": "code",
      "execution_count": 37,
      "id": "cd83e8dd-2277-42c6-b99a-2eec6b0e44f4",
      "metadata": {
        "id": "cd83e8dd-2277-42c6-b99a-2eec6b0e44f4",
        "outputId": "e679e7d1-8006-4245-bec1-92866f2645c5",
        "colab": {
          "base_uri": "https://localhost:8080/",
          "height": 210
        }
      },
      "outputs": [
        {
          "output_type": "execute_result",
          "data": {
            "text/plain": [
              "                                      smiles  ACEA_T47D_80hr_Negative  \\\n",
              "0                [O-][N+](=O)C1=CC=C(Cl)C=C1                      0.0   \n",
              "1  C[SiH](C)O[Si](C)(C)O[Si](C)(C)O[SiH](C)C                      NaN   \n",
              "2                   CN1CCN(CC1)C(=O)C1CCCCC1                      NaN   \n",
              "\n",
              "   ACEA_T47D_80hr_Positive  APR_HepG2_CellCycleArrest_24h_dn  \\\n",
              "0                      0.0                               NaN   \n",
              "1                      NaN                               NaN   \n",
              "2                      NaN                               NaN   \n",
              "\n",
              "   APR_HepG2_CellCycleArrest_24h_up  APR_HepG2_CellCycleArrest_72h_dn  \\\n",
              "0                               NaN                               NaN   \n",
              "1                               NaN                               NaN   \n",
              "2                               NaN                               NaN   \n",
              "\n",
              "   APR_HepG2_CellLoss_24h_dn  APR_HepG2_CellLoss_72h_dn  \\\n",
              "0                        NaN                        NaN   \n",
              "1                        NaN                        NaN   \n",
              "2                        NaN                        NaN   \n",
              "\n",
              "   APR_HepG2_MicrotubuleCSK_24h_dn  APR_HepG2_MicrotubuleCSK_24h_up  ...  \\\n",
              "0                              NaN                              NaN  ...   \n",
              "1                              NaN                              NaN  ...   \n",
              "2                              NaN                              NaN  ...   \n",
              "\n",
              "   Tanguay_ZF_120hpf_OTIC_up  Tanguay_ZF_120hpf_PE_up  \\\n",
              "0                        0.0                      0.0   \n",
              "1                        NaN                      NaN   \n",
              "2                        NaN                      NaN   \n",
              "\n",
              "   Tanguay_ZF_120hpf_PFIN_up  Tanguay_ZF_120hpf_PIG_up  \\\n",
              "0                        0.0                       0.0   \n",
              "1                        NaN                       NaN   \n",
              "2                        NaN                       NaN   \n",
              "\n",
              "   Tanguay_ZF_120hpf_SNOU_up  Tanguay_ZF_120hpf_SOMI_up  \\\n",
              "0                        0.0                        0.0   \n",
              "1                        NaN                        NaN   \n",
              "2                        NaN                        NaN   \n",
              "\n",
              "   Tanguay_ZF_120hpf_SWIM_up  Tanguay_ZF_120hpf_TRUN_up  \\\n",
              "0                        0.0                        0.0   \n",
              "1                        NaN                        NaN   \n",
              "2                        NaN                        NaN   \n",
              "\n",
              "   Tanguay_ZF_120hpf_TR_up  Tanguay_ZF_120hpf_YSE_up  \n",
              "0                      0.0                       0.0  \n",
              "1                      NaN                       NaN  \n",
              "2                      NaN                       NaN  \n",
              "\n",
              "[3 rows x 618 columns]"
            ],
            "text/html": [
              "\n",
              "  <div id=\"df-1fef21ee-c8d5-4fbe-ae93-6359eddd07fa\" class=\"colab-df-container\">\n",
              "    <div>\n",
              "<style scoped>\n",
              "    .dataframe tbody tr th:only-of-type {\n",
              "        vertical-align: middle;\n",
              "    }\n",
              "\n",
              "    .dataframe tbody tr th {\n",
              "        vertical-align: top;\n",
              "    }\n",
              "\n",
              "    .dataframe thead th {\n",
              "        text-align: right;\n",
              "    }\n",
              "</style>\n",
              "<table border=\"1\" class=\"dataframe\">\n",
              "  <thead>\n",
              "    <tr style=\"text-align: right;\">\n",
              "      <th></th>\n",
              "      <th>smiles</th>\n",
              "      <th>ACEA_T47D_80hr_Negative</th>\n",
              "      <th>ACEA_T47D_80hr_Positive</th>\n",
              "      <th>APR_HepG2_CellCycleArrest_24h_dn</th>\n",
              "      <th>APR_HepG2_CellCycleArrest_24h_up</th>\n",
              "      <th>APR_HepG2_CellCycleArrest_72h_dn</th>\n",
              "      <th>APR_HepG2_CellLoss_24h_dn</th>\n",
              "      <th>APR_HepG2_CellLoss_72h_dn</th>\n",
              "      <th>APR_HepG2_MicrotubuleCSK_24h_dn</th>\n",
              "      <th>APR_HepG2_MicrotubuleCSK_24h_up</th>\n",
              "      <th>...</th>\n",
              "      <th>Tanguay_ZF_120hpf_OTIC_up</th>\n",
              "      <th>Tanguay_ZF_120hpf_PE_up</th>\n",
              "      <th>Tanguay_ZF_120hpf_PFIN_up</th>\n",
              "      <th>Tanguay_ZF_120hpf_PIG_up</th>\n",
              "      <th>Tanguay_ZF_120hpf_SNOU_up</th>\n",
              "      <th>Tanguay_ZF_120hpf_SOMI_up</th>\n",
              "      <th>Tanguay_ZF_120hpf_SWIM_up</th>\n",
              "      <th>Tanguay_ZF_120hpf_TRUN_up</th>\n",
              "      <th>Tanguay_ZF_120hpf_TR_up</th>\n",
              "      <th>Tanguay_ZF_120hpf_YSE_up</th>\n",
              "    </tr>\n",
              "  </thead>\n",
              "  <tbody>\n",
              "    <tr>\n",
              "      <th>0</th>\n",
              "      <td>[O-][N+](=O)C1=CC=C(Cl)C=C1</td>\n",
              "      <td>0.0</td>\n",
              "      <td>0.0</td>\n",
              "      <td>NaN</td>\n",
              "      <td>NaN</td>\n",
              "      <td>NaN</td>\n",
              "      <td>NaN</td>\n",
              "      <td>NaN</td>\n",
              "      <td>NaN</td>\n",
              "      <td>NaN</td>\n",
              "      <td>...</td>\n",
              "      <td>0.0</td>\n",
              "      <td>0.0</td>\n",
              "      <td>0.0</td>\n",
              "      <td>0.0</td>\n",
              "      <td>0.0</td>\n",
              "      <td>0.0</td>\n",
              "      <td>0.0</td>\n",
              "      <td>0.0</td>\n",
              "      <td>0.0</td>\n",
              "      <td>0.0</td>\n",
              "    </tr>\n",
              "    <tr>\n",
              "      <th>1</th>\n",
              "      <td>C[SiH](C)O[Si](C)(C)O[Si](C)(C)O[SiH](C)C</td>\n",
              "      <td>NaN</td>\n",
              "      <td>NaN</td>\n",
              "      <td>NaN</td>\n",
              "      <td>NaN</td>\n",
              "      <td>NaN</td>\n",
              "      <td>NaN</td>\n",
              "      <td>NaN</td>\n",
              "      <td>NaN</td>\n",
              "      <td>NaN</td>\n",
              "      <td>...</td>\n",
              "      <td>NaN</td>\n",
              "      <td>NaN</td>\n",
              "      <td>NaN</td>\n",
              "      <td>NaN</td>\n",
              "      <td>NaN</td>\n",
              "      <td>NaN</td>\n",
              "      <td>NaN</td>\n",
              "      <td>NaN</td>\n",
              "      <td>NaN</td>\n",
              "      <td>NaN</td>\n",
              "    </tr>\n",
              "    <tr>\n",
              "      <th>2</th>\n",
              "      <td>CN1CCN(CC1)C(=O)C1CCCCC1</td>\n",
              "      <td>NaN</td>\n",
              "      <td>NaN</td>\n",
              "      <td>NaN</td>\n",
              "      <td>NaN</td>\n",
              "      <td>NaN</td>\n",
              "      <td>NaN</td>\n",
              "      <td>NaN</td>\n",
              "      <td>NaN</td>\n",
              "      <td>NaN</td>\n",
              "      <td>...</td>\n",
              "      <td>NaN</td>\n",
              "      <td>NaN</td>\n",
              "      <td>NaN</td>\n",
              "      <td>NaN</td>\n",
              "      <td>NaN</td>\n",
              "      <td>NaN</td>\n",
              "      <td>NaN</td>\n",
              "      <td>NaN</td>\n",
              "      <td>NaN</td>\n",
              "      <td>NaN</td>\n",
              "    </tr>\n",
              "  </tbody>\n",
              "</table>\n",
              "<p>3 rows × 618 columns</p>\n",
              "</div>\n",
              "    <div class=\"colab-df-buttons\">\n",
              "\n",
              "  <div class=\"colab-df-container\">\n",
              "    <button class=\"colab-df-convert\" onclick=\"convertToInteractive('df-1fef21ee-c8d5-4fbe-ae93-6359eddd07fa')\"\n",
              "            title=\"Convert this dataframe to an interactive table.\"\n",
              "            style=\"display:none;\">\n",
              "\n",
              "  <svg xmlns=\"http://www.w3.org/2000/svg\" height=\"24px\" viewBox=\"0 -960 960 960\">\n",
              "    <path d=\"M120-120v-720h720v720H120Zm60-500h600v-160H180v160Zm220 220h160v-160H400v160Zm0 220h160v-160H400v160ZM180-400h160v-160H180v160Zm440 0h160v-160H620v160ZM180-180h160v-160H180v160Zm440 0h160v-160H620v160Z\"/>\n",
              "  </svg>\n",
              "    </button>\n",
              "\n",
              "  <style>\n",
              "    .colab-df-container {\n",
              "      display:flex;\n",
              "      gap: 12px;\n",
              "    }\n",
              "\n",
              "    .colab-df-convert {\n",
              "      background-color: #E8F0FE;\n",
              "      border: none;\n",
              "      border-radius: 50%;\n",
              "      cursor: pointer;\n",
              "      display: none;\n",
              "      fill: #1967D2;\n",
              "      height: 32px;\n",
              "      padding: 0 0 0 0;\n",
              "      width: 32px;\n",
              "    }\n",
              "\n",
              "    .colab-df-convert:hover {\n",
              "      background-color: #E2EBFA;\n",
              "      box-shadow: 0px 1px 2px rgba(60, 64, 67, 0.3), 0px 1px 3px 1px rgba(60, 64, 67, 0.15);\n",
              "      fill: #174EA6;\n",
              "    }\n",
              "\n",
              "    .colab-df-buttons div {\n",
              "      margin-bottom: 4px;\n",
              "    }\n",
              "\n",
              "    [theme=dark] .colab-df-convert {\n",
              "      background-color: #3B4455;\n",
              "      fill: #D2E3FC;\n",
              "    }\n",
              "\n",
              "    [theme=dark] .colab-df-convert:hover {\n",
              "      background-color: #434B5C;\n",
              "      box-shadow: 0px 1px 3px 1px rgba(0, 0, 0, 0.15);\n",
              "      filter: drop-shadow(0px 1px 2px rgba(0, 0, 0, 0.3));\n",
              "      fill: #FFFFFF;\n",
              "    }\n",
              "  </style>\n",
              "\n",
              "    <script>\n",
              "      const buttonEl =\n",
              "        document.querySelector('#df-1fef21ee-c8d5-4fbe-ae93-6359eddd07fa button.colab-df-convert');\n",
              "      buttonEl.style.display =\n",
              "        google.colab.kernel.accessAllowed ? 'block' : 'none';\n",
              "\n",
              "      async function convertToInteractive(key) {\n",
              "        const element = document.querySelector('#df-1fef21ee-c8d5-4fbe-ae93-6359eddd07fa');\n",
              "        const dataTable =\n",
              "          await google.colab.kernel.invokeFunction('convertToInteractive',\n",
              "                                                    [key], {});\n",
              "        if (!dataTable) return;\n",
              "\n",
              "        const docLinkHtml = 'Like what you see? Visit the ' +\n",
              "          '<a target=\"_blank\" href=https://colab.research.google.com/notebooks/data_table.ipynb>data table notebook</a>'\n",
              "          + ' to learn more about interactive tables.';\n",
              "        element.innerHTML = '';\n",
              "        dataTable['output_type'] = 'display_data';\n",
              "        await google.colab.output.renderOutput(dataTable, element);\n",
              "        const docLink = document.createElement('div');\n",
              "        docLink.innerHTML = docLinkHtml;\n",
              "        element.appendChild(docLink);\n",
              "      }\n",
              "    </script>\n",
              "  </div>\n",
              "\n",
              "\n",
              "<div id=\"df-9b5a186c-18fd-47db-9cf7-46d5f60e9044\">\n",
              "  <button class=\"colab-df-quickchart\" onclick=\"quickchart('df-9b5a186c-18fd-47db-9cf7-46d5f60e9044')\"\n",
              "            title=\"Suggest charts\"\n",
              "            style=\"display:none;\">\n",
              "\n",
              "<svg xmlns=\"http://www.w3.org/2000/svg\" height=\"24px\"viewBox=\"0 0 24 24\"\n",
              "     width=\"24px\">\n",
              "    <g>\n",
              "        <path d=\"M19 3H5c-1.1 0-2 .9-2 2v14c0 1.1.9 2 2 2h14c1.1 0 2-.9 2-2V5c0-1.1-.9-2-2-2zM9 17H7v-7h2v7zm4 0h-2V7h2v10zm4 0h-2v-4h2v4z\"/>\n",
              "    </g>\n",
              "</svg>\n",
              "  </button>\n",
              "\n",
              "<style>\n",
              "  .colab-df-quickchart {\n",
              "      --bg-color: #E8F0FE;\n",
              "      --fill-color: #1967D2;\n",
              "      --hover-bg-color: #E2EBFA;\n",
              "      --hover-fill-color: #174EA6;\n",
              "      --disabled-fill-color: #AAA;\n",
              "      --disabled-bg-color: #DDD;\n",
              "  }\n",
              "\n",
              "  [theme=dark] .colab-df-quickchart {\n",
              "      --bg-color: #3B4455;\n",
              "      --fill-color: #D2E3FC;\n",
              "      --hover-bg-color: #434B5C;\n",
              "      --hover-fill-color: #FFFFFF;\n",
              "      --disabled-bg-color: #3B4455;\n",
              "      --disabled-fill-color: #666;\n",
              "  }\n",
              "\n",
              "  .colab-df-quickchart {\n",
              "    background-color: var(--bg-color);\n",
              "    border: none;\n",
              "    border-radius: 50%;\n",
              "    cursor: pointer;\n",
              "    display: none;\n",
              "    fill: var(--fill-color);\n",
              "    height: 32px;\n",
              "    padding: 0;\n",
              "    width: 32px;\n",
              "  }\n",
              "\n",
              "  .colab-df-quickchart:hover {\n",
              "    background-color: var(--hover-bg-color);\n",
              "    box-shadow: 0 1px 2px rgba(60, 64, 67, 0.3), 0 1px 3px 1px rgba(60, 64, 67, 0.15);\n",
              "    fill: var(--button-hover-fill-color);\n",
              "  }\n",
              "\n",
              "  .colab-df-quickchart-complete:disabled,\n",
              "  .colab-df-quickchart-complete:disabled:hover {\n",
              "    background-color: var(--disabled-bg-color);\n",
              "    fill: var(--disabled-fill-color);\n",
              "    box-shadow: none;\n",
              "  }\n",
              "\n",
              "  .colab-df-spinner {\n",
              "    border: 2px solid var(--fill-color);\n",
              "    border-color: transparent;\n",
              "    border-bottom-color: var(--fill-color);\n",
              "    animation:\n",
              "      spin 1s steps(1) infinite;\n",
              "  }\n",
              "\n",
              "  @keyframes spin {\n",
              "    0% {\n",
              "      border-color: transparent;\n",
              "      border-bottom-color: var(--fill-color);\n",
              "      border-left-color: var(--fill-color);\n",
              "    }\n",
              "    20% {\n",
              "      border-color: transparent;\n",
              "      border-left-color: var(--fill-color);\n",
              "      border-top-color: var(--fill-color);\n",
              "    }\n",
              "    30% {\n",
              "      border-color: transparent;\n",
              "      border-left-color: var(--fill-color);\n",
              "      border-top-color: var(--fill-color);\n",
              "      border-right-color: var(--fill-color);\n",
              "    }\n",
              "    40% {\n",
              "      border-color: transparent;\n",
              "      border-right-color: var(--fill-color);\n",
              "      border-top-color: var(--fill-color);\n",
              "    }\n",
              "    60% {\n",
              "      border-color: transparent;\n",
              "      border-right-color: var(--fill-color);\n",
              "    }\n",
              "    80% {\n",
              "      border-color: transparent;\n",
              "      border-right-color: var(--fill-color);\n",
              "      border-bottom-color: var(--fill-color);\n",
              "    }\n",
              "    90% {\n",
              "      border-color: transparent;\n",
              "      border-bottom-color: var(--fill-color);\n",
              "    }\n",
              "  }\n",
              "</style>\n",
              "\n",
              "  <script>\n",
              "    async function quickchart(key) {\n",
              "      const quickchartButtonEl =\n",
              "        document.querySelector('#' + key + ' button');\n",
              "      quickchartButtonEl.disabled = true;  // To prevent multiple clicks.\n",
              "      quickchartButtonEl.classList.add('colab-df-spinner');\n",
              "      try {\n",
              "        const charts = await google.colab.kernel.invokeFunction(\n",
              "            'suggestCharts', [key], {});\n",
              "      } catch (error) {\n",
              "        console.error('Error during call to suggestCharts:', error);\n",
              "      }\n",
              "      quickchartButtonEl.classList.remove('colab-df-spinner');\n",
              "      quickchartButtonEl.classList.add('colab-df-quickchart-complete');\n",
              "    }\n",
              "    (() => {\n",
              "      let quickchartButtonEl =\n",
              "        document.querySelector('#df-9b5a186c-18fd-47db-9cf7-46d5f60e9044 button');\n",
              "      quickchartButtonEl.style.display =\n",
              "        google.colab.kernel.accessAllowed ? 'block' : 'none';\n",
              "    })();\n",
              "  </script>\n",
              "</div>\n",
              "\n",
              "    </div>\n",
              "  </div>\n"
            ],
            "application/vnd.google.colaboratory.intrinsic+json": {
              "type": "dataframe",
              "variable_name": "df_toxicity"
            }
          },
          "metadata": {},
          "execution_count": 37
        }
      ],
      "source": [
        "import pandas as pd\n",
        "\n",
        "# Load clintox data from the data directory and see what it contains\n",
        "df_toxicity = pd.read_csv(\"data/toxcast_data.csv\")\n",
        "df_toxicity.head(3)"
      ]
    },
    {
      "cell_type": "markdown",
      "id": "d241778d-4b07-44cd-8713-c11c736f5e5c",
      "metadata": {
        "id": "d241778d-4b07-44cd-8713-c11c736f5e5c"
      },
      "source": [
        "This dataset contains the molecule SMILES, plus a lot of data coming from different [toxicity measurements](https://www.epa.gov/chemical-research/exploring-toxcast-data).\n",
        "\n",
        "We will stick to `TOX21_TR_LUC_GH3_Antagonist`, as is the one for which we have more data."
      ]
    },
    {
      "cell_type": "code",
      "execution_count": 42,
      "id": "51abea66-40f1-4183-b79d-ccee003a17f6",
      "metadata": {
        "id": "51abea66-40f1-4183-b79d-ccee003a17f6",
        "outputId": "95a6a99f-88aa-4582-dc07-d9297bb4b81d",
        "colab": {
          "base_uri": "https://localhost:8080/",
          "height": 206
        }
      },
      "outputs": [
        {
          "output_type": "execute_result",
          "data": {
            "text/plain": [
              "                                                 smiles  toxic\n",
              "6089      O.Cl.CC1=CC=C(C=C1)C(=C/CN1CCCC1)\\C1=CC=CC=N1    1.0\n",
              "6603   OC(=O)\\C=C/C(O)=O.C(C(C1CCCCC1)C1CCCCC1)C1CCCCN1    1.0\n",
              "2233  C(CNCC1=CC=CC=C1)NCC1=CC=CC=C1.CC1(C)S[C@@H]2[...    0.0\n",
              "8538  OC[C@H]1O[C@H](O[C@@]2(CO)O[C@@H](O)[C@H](O)[C...    0.0\n",
              "6147              O=C1O[Pt]2(N[C@@H]3CCCC[C@H]3N2)OC1=O    1.0"
            ],
            "text/html": [
              "\n",
              "  <div id=\"df-c7cc1c4f-b4f7-4d88-b6b7-f38fe94d4d25\" class=\"colab-df-container\">\n",
              "    <div>\n",
              "<style scoped>\n",
              "    .dataframe tbody tr th:only-of-type {\n",
              "        vertical-align: middle;\n",
              "    }\n",
              "\n",
              "    .dataframe tbody tr th {\n",
              "        vertical-align: top;\n",
              "    }\n",
              "\n",
              "    .dataframe thead th {\n",
              "        text-align: right;\n",
              "    }\n",
              "</style>\n",
              "<table border=\"1\" class=\"dataframe\">\n",
              "  <thead>\n",
              "    <tr style=\"text-align: right;\">\n",
              "      <th></th>\n",
              "      <th>smiles</th>\n",
              "      <th>toxic</th>\n",
              "    </tr>\n",
              "  </thead>\n",
              "  <tbody>\n",
              "    <tr>\n",
              "      <th>6089</th>\n",
              "      <td>O.Cl.CC1=CC=C(C=C1)C(=C/CN1CCCC1)\\C1=CC=CC=N1</td>\n",
              "      <td>1.0</td>\n",
              "    </tr>\n",
              "    <tr>\n",
              "      <th>6603</th>\n",
              "      <td>OC(=O)\\C=C/C(O)=O.C(C(C1CCCCC1)C1CCCCC1)C1CCCCN1</td>\n",
              "      <td>1.0</td>\n",
              "    </tr>\n",
              "    <tr>\n",
              "      <th>2233</th>\n",
              "      <td>C(CNCC1=CC=CC=C1)NCC1=CC=CC=C1.CC1(C)S[C@@H]2[...</td>\n",
              "      <td>0.0</td>\n",
              "    </tr>\n",
              "    <tr>\n",
              "      <th>8538</th>\n",
              "      <td>OC[C@H]1O[C@H](O[C@@]2(CO)O[C@@H](O)[C@H](O)[C...</td>\n",
              "      <td>0.0</td>\n",
              "    </tr>\n",
              "    <tr>\n",
              "      <th>6147</th>\n",
              "      <td>O=C1O[Pt]2(N[C@@H]3CCCC[C@H]3N2)OC1=O</td>\n",
              "      <td>1.0</td>\n",
              "    </tr>\n",
              "  </tbody>\n",
              "</table>\n",
              "</div>\n",
              "    <div class=\"colab-df-buttons\">\n",
              "\n",
              "  <div class=\"colab-df-container\">\n",
              "    <button class=\"colab-df-convert\" onclick=\"convertToInteractive('df-c7cc1c4f-b4f7-4d88-b6b7-f38fe94d4d25')\"\n",
              "            title=\"Convert this dataframe to an interactive table.\"\n",
              "            style=\"display:none;\">\n",
              "\n",
              "  <svg xmlns=\"http://www.w3.org/2000/svg\" height=\"24px\" viewBox=\"0 -960 960 960\">\n",
              "    <path d=\"M120-120v-720h720v720H120Zm60-500h600v-160H180v160Zm220 220h160v-160H400v160Zm0 220h160v-160H400v160ZM180-400h160v-160H180v160Zm440 0h160v-160H620v160ZM180-180h160v-160H180v160Zm440 0h160v-160H620v160Z\"/>\n",
              "  </svg>\n",
              "    </button>\n",
              "\n",
              "  <style>\n",
              "    .colab-df-container {\n",
              "      display:flex;\n",
              "      gap: 12px;\n",
              "    }\n",
              "\n",
              "    .colab-df-convert {\n",
              "      background-color: #E8F0FE;\n",
              "      border: none;\n",
              "      border-radius: 50%;\n",
              "      cursor: pointer;\n",
              "      display: none;\n",
              "      fill: #1967D2;\n",
              "      height: 32px;\n",
              "      padding: 0 0 0 0;\n",
              "      width: 32px;\n",
              "    }\n",
              "\n",
              "    .colab-df-convert:hover {\n",
              "      background-color: #E2EBFA;\n",
              "      box-shadow: 0px 1px 2px rgba(60, 64, 67, 0.3), 0px 1px 3px 1px rgba(60, 64, 67, 0.15);\n",
              "      fill: #174EA6;\n",
              "    }\n",
              "\n",
              "    .colab-df-buttons div {\n",
              "      margin-bottom: 4px;\n",
              "    }\n",
              "\n",
              "    [theme=dark] .colab-df-convert {\n",
              "      background-color: #3B4455;\n",
              "      fill: #D2E3FC;\n",
              "    }\n",
              "\n",
              "    [theme=dark] .colab-df-convert:hover {\n",
              "      background-color: #434B5C;\n",
              "      box-shadow: 0px 1px 3px 1px rgba(0, 0, 0, 0.15);\n",
              "      filter: drop-shadow(0px 1px 2px rgba(0, 0, 0, 0.3));\n",
              "      fill: #FFFFFF;\n",
              "    }\n",
              "  </style>\n",
              "\n",
              "    <script>\n",
              "      const buttonEl =\n",
              "        document.querySelector('#df-c7cc1c4f-b4f7-4d88-b6b7-f38fe94d4d25 button.colab-df-convert');\n",
              "      buttonEl.style.display =\n",
              "        google.colab.kernel.accessAllowed ? 'block' : 'none';\n",
              "\n",
              "      async function convertToInteractive(key) {\n",
              "        const element = document.querySelector('#df-c7cc1c4f-b4f7-4d88-b6b7-f38fe94d4d25');\n",
              "        const dataTable =\n",
              "          await google.colab.kernel.invokeFunction('convertToInteractive',\n",
              "                                                    [key], {});\n",
              "        if (!dataTable) return;\n",
              "\n",
              "        const docLinkHtml = 'Like what you see? Visit the ' +\n",
              "          '<a target=\"_blank\" href=https://colab.research.google.com/notebooks/data_table.ipynb>data table notebook</a>'\n",
              "          + ' to learn more about interactive tables.';\n",
              "        element.innerHTML = '';\n",
              "        dataTable['output_type'] = 'display_data';\n",
              "        await google.colab.output.renderOutput(dataTable, element);\n",
              "        const docLink = document.createElement('div');\n",
              "        docLink.innerHTML = docLinkHtml;\n",
              "        element.appendChild(docLink);\n",
              "      }\n",
              "    </script>\n",
              "  </div>\n",
              "\n",
              "\n",
              "<div id=\"df-974c9c04-5fb9-4590-9533-3e81abf6f2ee\">\n",
              "  <button class=\"colab-df-quickchart\" onclick=\"quickchart('df-974c9c04-5fb9-4590-9533-3e81abf6f2ee')\"\n",
              "            title=\"Suggest charts\"\n",
              "            style=\"display:none;\">\n",
              "\n",
              "<svg xmlns=\"http://www.w3.org/2000/svg\" height=\"24px\"viewBox=\"0 0 24 24\"\n",
              "     width=\"24px\">\n",
              "    <g>\n",
              "        <path d=\"M19 3H5c-1.1 0-2 .9-2 2v14c0 1.1.9 2 2 2h14c1.1 0 2-.9 2-2V5c0-1.1-.9-2-2-2zM9 17H7v-7h2v7zm4 0h-2V7h2v10zm4 0h-2v-4h2v4z\"/>\n",
              "    </g>\n",
              "</svg>\n",
              "  </button>\n",
              "\n",
              "<style>\n",
              "  .colab-df-quickchart {\n",
              "      --bg-color: #E8F0FE;\n",
              "      --fill-color: #1967D2;\n",
              "      --hover-bg-color: #E2EBFA;\n",
              "      --hover-fill-color: #174EA6;\n",
              "      --disabled-fill-color: #AAA;\n",
              "      --disabled-bg-color: #DDD;\n",
              "  }\n",
              "\n",
              "  [theme=dark] .colab-df-quickchart {\n",
              "      --bg-color: #3B4455;\n",
              "      --fill-color: #D2E3FC;\n",
              "      --hover-bg-color: #434B5C;\n",
              "      --hover-fill-color: #FFFFFF;\n",
              "      --disabled-bg-color: #3B4455;\n",
              "      --disabled-fill-color: #666;\n",
              "  }\n",
              "\n",
              "  .colab-df-quickchart {\n",
              "    background-color: var(--bg-color);\n",
              "    border: none;\n",
              "    border-radius: 50%;\n",
              "    cursor: pointer;\n",
              "    display: none;\n",
              "    fill: var(--fill-color);\n",
              "    height: 32px;\n",
              "    padding: 0;\n",
              "    width: 32px;\n",
              "  }\n",
              "\n",
              "  .colab-df-quickchart:hover {\n",
              "    background-color: var(--hover-bg-color);\n",
              "    box-shadow: 0 1px 2px rgba(60, 64, 67, 0.3), 0 1px 3px 1px rgba(60, 64, 67, 0.15);\n",
              "    fill: var(--button-hover-fill-color);\n",
              "  }\n",
              "\n",
              "  .colab-df-quickchart-complete:disabled,\n",
              "  .colab-df-quickchart-complete:disabled:hover {\n",
              "    background-color: var(--disabled-bg-color);\n",
              "    fill: var(--disabled-fill-color);\n",
              "    box-shadow: none;\n",
              "  }\n",
              "\n",
              "  .colab-df-spinner {\n",
              "    border: 2px solid var(--fill-color);\n",
              "    border-color: transparent;\n",
              "    border-bottom-color: var(--fill-color);\n",
              "    animation:\n",
              "      spin 1s steps(1) infinite;\n",
              "  }\n",
              "\n",
              "  @keyframes spin {\n",
              "    0% {\n",
              "      border-color: transparent;\n",
              "      border-bottom-color: var(--fill-color);\n",
              "      border-left-color: var(--fill-color);\n",
              "    }\n",
              "    20% {\n",
              "      border-color: transparent;\n",
              "      border-left-color: var(--fill-color);\n",
              "      border-top-color: var(--fill-color);\n",
              "    }\n",
              "    30% {\n",
              "      border-color: transparent;\n",
              "      border-left-color: var(--fill-color);\n",
              "      border-top-color: var(--fill-color);\n",
              "      border-right-color: var(--fill-color);\n",
              "    }\n",
              "    40% {\n",
              "      border-color: transparent;\n",
              "      border-right-color: var(--fill-color);\n",
              "      border-top-color: var(--fill-color);\n",
              "    }\n",
              "    60% {\n",
              "      border-color: transparent;\n",
              "      border-right-color: var(--fill-color);\n",
              "    }\n",
              "    80% {\n",
              "      border-color: transparent;\n",
              "      border-right-color: var(--fill-color);\n",
              "      border-bottom-color: var(--fill-color);\n",
              "    }\n",
              "    90% {\n",
              "      border-color: transparent;\n",
              "      border-bottom-color: var(--fill-color);\n",
              "    }\n",
              "  }\n",
              "</style>\n",
              "\n",
              "  <script>\n",
              "    async function quickchart(key) {\n",
              "      const quickchartButtonEl =\n",
              "        document.querySelector('#' + key + ' button');\n",
              "      quickchartButtonEl.disabled = true;  // To prevent multiple clicks.\n",
              "      quickchartButtonEl.classList.add('colab-df-spinner');\n",
              "      try {\n",
              "        const charts = await google.colab.kernel.invokeFunction(\n",
              "            'suggestCharts', [key], {});\n",
              "      } catch (error) {\n",
              "        console.error('Error during call to suggestCharts:', error);\n",
              "      }\n",
              "      quickchartButtonEl.classList.remove('colab-df-spinner');\n",
              "      quickchartButtonEl.classList.add('colab-df-quickchart-complete');\n",
              "    }\n",
              "    (() => {\n",
              "      let quickchartButtonEl =\n",
              "        document.querySelector('#df-974c9c04-5fb9-4590-9533-3e81abf6f2ee button');\n",
              "      quickchartButtonEl.style.display =\n",
              "        google.colab.kernel.accessAllowed ? 'block' : 'none';\n",
              "    })();\n",
              "  </script>\n",
              "</div>\n",
              "\n",
              "    </div>\n",
              "  </div>\n"
            ],
            "application/vnd.google.colaboratory.intrinsic+json": {
              "type": "dataframe",
              "summary": "{\n  \"name\": \"df_tox\",\n  \"rows\": 5,\n  \"fields\": [\n    {\n      \"column\": \"smiles\",\n      \"properties\": {\n        \"dtype\": \"string\",\n        \"num_unique_values\": 5,\n        \"samples\": [\n          \"OC(=O)\\\\C=C/C(O)=O.C(C(C1CCCCC1)C1CCCCC1)C1CCCCN1\",\n          \"O=C1O[Pt]2(N[C@@H]3CCCC[C@H]3N2)OC1=O\",\n          \"C(CNCC1=CC=CC=C1)NCC1=CC=CC=C1.CC1(C)S[C@@H]2[C@H](NC(=O)CC3=CC=CC=C3)C(=O)N2[C@H]1C(O)=O.CC1(C)S[C@@H]2[C@H](NC(=O)CC3=CC=CC=C3)C(=O)N2[C@H]1C(O)=O\"\n        ],\n        \"semantic_type\": \"\",\n        \"description\": \"\"\n      }\n    },\n    {\n      \"column\": \"toxic\",\n      \"properties\": {\n        \"dtype\": \"number\",\n        \"std\": 0.5477225575051662,\n        \"min\": 0.0,\n        \"max\": 1.0,\n        \"num_unique_values\": 2,\n        \"samples\": [\n          0.0,\n          1.0\n        ],\n        \"semantic_type\": \"\",\n        \"description\": \"\"\n      }\n    }\n  ]\n}"
            }
          },
          "metadata": {},
          "execution_count": 42
        }
      ],
      "source": [
        "df_tox = df_toxicity.loc[:,[\"smiles\",\"TOX21_TR_LUC_GH3_Antagonist\"]].dropna()\n",
        "df_tox.columns = [\"smiles\", \"toxic\"]\n",
        "df_tox.sample(5)"
      ]
    },
    {
      "cell_type": "code",
      "execution_count": 44,
      "id": "0e3cfd3d-5090-4a34-8fde-c7e6f157e144",
      "metadata": {
        "id": "0e3cfd3d-5090-4a34-8fde-c7e6f157e144",
        "outputId": "f74a4e6c-cbf6-46bd-c077-af2ce3901c27",
        "colab": {
          "base_uri": "https://localhost:8080/",
          "height": 466
        }
      },
      "outputs": [
        {
          "output_type": "execute_result",
          "data": {
            "image/png": "[encoded data removed]",
            "text/plain": [
              "<IPython.core.display.Image object>"
            ]
          },
          "metadata": {},
          "execution_count": 44
        }
      ],
      "source": [
        "from rdkit import Chem\n",
        "from rdkit.Chem import Draw\n",
        "\n",
        "# Visualize some of the molecules of this dataset\n",
        "n=6\n",
        "df_sample=df_tox.sample(n)\n",
        "\n",
        "smiles = df_sample.smiles.values\n",
        "legend = df_sample.toxic.values\n",
        "molecs = [Chem.MolFromSmiles(s) for s in smiles]\n",
        "\n",
        "Draw.MolsToGridImage(molecs,subImgSize=(600,300),legends=[\"Toxic\" if i==1 else \"Non-toxic\" for i in legend])"
      ]
    },
    {
      "cell_type": "code",
      "execution_count": 45,
      "id": "b3d934d7-2b65-436f-a02f-f7115c6c977d",
      "metadata": {
        "id": "b3d934d7-2b65-436f-a02f-f7115c6c977d",
        "outputId": "f9d2560c-bb6d-49ca-e60e-641b3b916563",
        "colab": {
          "base_uri": "https://localhost:8080/"
        }
      },
      "outputs": [
        {
          "output_type": "stream",
          "name": "stdout",
          "text": [
            "The dataset contains 7950 molecules; 1764 of them are toxic.\n"
          ]
        }
      ],
      "source": [
        "# How many toxic molecules are in the dataset?\n",
        "counts = df_tox[\"toxic\"].value_counts()\n",
        "\n",
        "print(f\"The dataset contains {counts.sum()} molecules; {counts.iloc[1]} of them are toxic.\")"
      ]
    },
    {
      "cell_type": "markdown",
      "id": "e7330eb2-1955-4f1d-92a6-7a094ad50333",
      "metadata": {
        "tags": [],
        "id": "e7330eb2-1955-4f1d-92a6-7a094ad50333"
      },
      "source": [
        "## Now, we will calculate some molecular descriptors using the [mordred package](http://mordred-descriptor.github.io/documentation/master/descriptors.html)."
      ]
    },
    {
      "cell_type": "code",
      "execution_count": 46,
      "id": "ba4b862e-4f02-445f-96c5-658bb7d1c64f",
      "metadata": {
        "id": "ba4b862e-4f02-445f-96c5-658bb7d1c64f",
        "outputId": "63ae6dbf-9543-4831-c74f-2103c5707afb",
        "colab": {
          "base_uri": "https://localhost:8080/"
        }
      },
      "outputs": [
        {
          "output_type": "stream",
          "name": "stdout",
          "text": [
            "Number of molecular descriptors: 1613\n"
          ]
        }
      ],
      "source": [
        "from rdkit import Chem\n",
        "import numpy as np\n",
        "from deepchem.feat import MordredDescriptors\n",
        "\n",
        "featurizer = MordredDescriptors(ignore_3D=True)\n",
        "features = featurizer.featurize(\"CCC\")\n",
        "print(\"Number of molecular descriptors:\", features.shape[1])"
      ]
    },
    {
      "cell_type": "code",
      "source": [
        "r = [Chem.MolFromSmiles(\"CCC\")]\n",
        "Draw.MolsToGridImage(r,subImgSize=(600,300))"
      ],
      "metadata": {
        "id": "Sl-ca6gCvkHH",
        "outputId": "375cf029-b361-49ee-b730-b7045627e621",
        "colab": {
          "base_uri": "https://localhost:8080/",
          "height": 241
        }
      },
      "id": "Sl-ca6gCvkHH",
      "execution_count": 49,
      "outputs": [
        {
          "output_type": "execute_result",
          "data": {
            "image/png": "[encoded data removed]",
            "text/plain": [
              "<IPython.core.display.Image object>"
            ]
          },
          "metadata": {},
          "execution_count": 49
        }
      ]
    },
    {
      "cell_type": "markdown",
      "id": "711d031a-ca7c-4cf2-a959-389fd711cdc2",
      "metadata": {
        "id": "711d031a-ca7c-4cf2-a959-389fd711cdc2"
      },
      "source": [
        "This can take a while (at least 40 minutes), you can use this time to explore a bit the more than 1600 descriptors from mordred!"
      ]
    },
    {
      "cell_type": "code",
      "execution_count": 50,
      "id": "ddf18155-356f-4305-9727-1ebf3f6d90ed",
      "metadata": {
        "tags": [],
        "id": "ddf18155-356f-4305-9727-1ebf3f6d90ed",
        "outputId": "5cc4ba3b-fac7-4ee1-d1b1-166f184f82be",
        "colab": {
          "base_uri": "https://localhost:8080/"
        }
      },
      "outputs": [
        {
          "output_type": "stream",
          "name": "stderr",
          "text": [
            "/usr/local/lib/python3.11/dist-packages/numpy/core/fromnumeric.py:88: RuntimeWarning: overflow encountered in reduce\n",
            "  return ufunc.reduce(obj, axis, dtype, out, **passkwargs)\n",
            "[10:01:38] Explicit valence for atom # 0 F, 1, is greater than permitted\n",
            "WARNING:deepchem.feat.base_classes:Failed to featurize datapoint 0, None. Appending empty array\n",
            "WARNING:deepchem.feat.base_classes:Exception message: Python argument types in\n",
            "    rdkit.Chem.rdmolfiles.CanonicalRankAtoms(NoneType)\n",
            "did not match C++ signature:\n",
            "    CanonicalRankAtoms(RDKit::ROMol mol, bool breakTies=True, bool includeChirality=True, bool includeIsotopes=True, bool includeAtomMaps=True, bool includeChiralPresence=False)\n",
            "[10:02:48] Explicit valence for atom # 2 Cl, 1, is greater than permitted\n",
            "WARNING:deepchem.feat.base_classes:Failed to featurize datapoint 0, None. Appending empty array\n",
            "WARNING:deepchem.feat.base_classes:Exception message: Python argument types in\n",
            "    rdkit.Chem.rdmolfiles.CanonicalRankAtoms(NoneType)\n",
            "did not match C++ signature:\n",
            "    CanonicalRankAtoms(RDKit::ROMol mol, bool breakTies=True, bool includeChirality=True, bool includeIsotopes=True, bool includeAtomMaps=True, bool includeChiralPresence=False)\n",
            "[10:03:00] Explicit valence for atom # 0 Cl, 1, is greater than permitted\n",
            "WARNING:deepchem.feat.base_classes:Failed to featurize datapoint 0, None. Appending empty array\n",
            "WARNING:deepchem.feat.base_classes:Exception message: Python argument types in\n",
            "    rdkit.Chem.rdmolfiles.CanonicalRankAtoms(NoneType)\n",
            "did not match C++ signature:\n",
            "    CanonicalRankAtoms(RDKit::ROMol mol, bool breakTies=True, bool includeChirality=True, bool includeIsotopes=True, bool includeAtomMaps=True, bool includeChiralPresence=False)\n",
            "[10:04:01] WARNING: not removing hydrogen atom without neighbors\n",
            "[10:04:01] WARNING: not removing hydrogen atom without neighbors\n",
            "[10:04:01] WARNING: not removing hydrogen atom without neighbors\n",
            "[10:04:01] WARNING: not removing hydrogen atom without neighbors\n",
            "[10:07:05] SMILES Parse Error: syntax error while parsing: FAIL\n",
            "[10:07:05] SMILES Parse Error: check for mistakes around position 2:\n",
            "[10:07:05] FAIL\n",
            "[10:07:05] ~^\n",
            "[10:07:05] SMILES Parse Error: Failed parsing SMILES 'FAIL' for input: 'FAIL'\n",
            "WARNING:deepchem.feat.base_classes:Failed to featurize datapoint 0, None. Appending empty array\n",
            "WARNING:deepchem.feat.base_classes:Exception message: Python argument types in\n",
            "    rdkit.Chem.rdmolfiles.CanonicalRankAtoms(NoneType)\n",
            "did not match C++ signature:\n",
            "    CanonicalRankAtoms(RDKit::ROMol mol, bool breakTies=True, bool includeChirality=True, bool includeIsotopes=True, bool includeAtomMaps=True, bool includeChiralPresence=False)\n",
            "[10:08:06] SMILES Parse Error: syntax error while parsing: FAIL\n",
            "[10:08:06] SMILES Parse Error: check for mistakes around position 2:\n",
            "[10:08:06] FAIL\n",
            "[10:08:06] ~^\n",
            "[10:08:06] SMILES Parse Error: Failed parsing SMILES 'FAIL' for input: 'FAIL'\n",
            "WARNING:deepchem.feat.base_classes:Failed to featurize datapoint 0, None. Appending empty array\n",
            "WARNING:deepchem.feat.base_classes:Exception message: Python argument types in\n",
            "    rdkit.Chem.rdmolfiles.CanonicalRankAtoms(NoneType)\n",
            "did not match C++ signature:\n",
            "    CanonicalRankAtoms(RDKit::ROMol mol, bool breakTies=True, bool includeChirality=True, bool includeIsotopes=True, bool includeAtomMaps=True, bool includeChiralPresence=False)\n",
            "[10:08:38] SMILES Parse Error: syntax error while parsing: FAIL\n",
            "[10:08:38] SMILES Parse Error: check for mistakes around position 2:\n",
            "[10:08:38] FAIL\n",
            "[10:08:38] ~^\n",
            "[10:08:38] SMILES Parse Error: Failed parsing SMILES 'FAIL' for input: 'FAIL'\n",
            "WARNING:deepchem.feat.base_classes:Failed to featurize datapoint 0, None. Appending empty array\n",
            "WARNING:deepchem.feat.base_classes:Exception message: Python argument types in\n",
            "    rdkit.Chem.rdmolfiles.CanonicalRankAtoms(NoneType)\n",
            "did not match C++ signature:\n",
            "    CanonicalRankAtoms(RDKit::ROMol mol, bool breakTies=True, bool includeChirality=True, bool includeIsotopes=True, bool includeAtomMaps=True, bool includeChiralPresence=False)\n",
            "[10:10:05] SMILES Parse Error: syntax error while parsing: FAIL\n",
            "[10:10:05] SMILES Parse Error: check for mistakes around position 2:\n",
            "[10:10:05] FAIL\n",
            "[10:10:05] ~^\n",
            "[10:10:05] SMILES Parse Error: Failed parsing SMILES 'FAIL' for input: 'FAIL'\n",
            "WARNING:deepchem.feat.base_classes:Failed to featurize datapoint 0, None. Appending empty array\n",
            "WARNING:deepchem.feat.base_classes:Exception message: Python argument types in\n",
            "    rdkit.Chem.rdmolfiles.CanonicalRankAtoms(NoneType)\n",
            "did not match C++ signature:\n",
            "    CanonicalRankAtoms(RDKit::ROMol mol, bool breakTies=True, bool includeChirality=True, bool includeIsotopes=True, bool includeAtomMaps=True, bool includeChiralPresence=False)\n",
            "[10:10:55] SMILES Parse Error: syntax error while parsing: FAIL\n",
            "[10:10:55] SMILES Parse Error: check for mistakes around position 2:\n",
            "[10:10:55] FAIL\n",
            "[10:10:55] ~^\n",
            "[10:10:55] SMILES Parse Error: Failed parsing SMILES 'FAIL' for input: 'FAIL'\n",
            "WARNING:deepchem.feat.base_classes:Failed to featurize datapoint 0, None. Appending empty array\n",
            "WARNING:deepchem.feat.base_classes:Exception message: Python argument types in\n",
            "    rdkit.Chem.rdmolfiles.CanonicalRankAtoms(NoneType)\n",
            "did not match C++ signature:\n",
            "    CanonicalRankAtoms(RDKit::ROMol mol, bool breakTies=True, bool includeChirality=True, bool includeIsotopes=True, bool includeAtomMaps=True, bool includeChiralPresence=False)\n",
            "[10:10:56] SMILES Parse Error: syntax error while parsing: FAIL\n",
            "[10:10:56] SMILES Parse Error: check for mistakes around position 2:\n",
            "[10:10:56] FAIL\n",
            "[10:10:56] ~^\n",
            "[10:10:56] SMILES Parse Error: Failed parsing SMILES 'FAIL' for input: 'FAIL'\n",
            "WARNING:deepchem.feat.base_classes:Failed to featurize datapoint 0, None. Appending empty array\n",
            "WARNING:deepchem.feat.base_classes:Exception message: Python argument types in\n",
            "    rdkit.Chem.rdmolfiles.CanonicalRankAtoms(NoneType)\n",
            "did not match C++ signature:\n",
            "    CanonicalRankAtoms(RDKit::ROMol mol, bool breakTies=True, bool includeChirality=True, bool includeIsotopes=True, bool includeAtomMaps=True, bool includeChiralPresence=False)\n",
            "[10:11:26] SMILES Parse Error: syntax error while parsing: FAIL\n",
            "[10:11:26] SMILES Parse Error: check for mistakes around position 2:\n",
            "[10:11:26] FAIL\n",
            "[10:11:26] ~^\n",
            "[10:11:26] SMILES Parse Error: Failed parsing SMILES 'FAIL' for input: 'FAIL'\n",
            "WARNING:deepchem.feat.base_classes:Failed to featurize datapoint 0, None. Appending empty array\n",
            "WARNING:deepchem.feat.base_classes:Exception message: Python argument types in\n",
            "    rdkit.Chem.rdmolfiles.CanonicalRankAtoms(NoneType)\n",
            "did not match C++ signature:\n",
            "    CanonicalRankAtoms(RDKit::ROMol mol, bool breakTies=True, bool includeChirality=True, bool includeIsotopes=True, bool includeAtomMaps=True, bool includeChiralPresence=False)\n",
            "[10:11:54] SMILES Parse Error: syntax error while parsing: FAIL\n",
            "[10:11:54] SMILES Parse Error: check for mistakes around position 2:\n",
            "[10:11:54] FAIL\n",
            "[10:11:54] ~^\n",
            "[10:11:54] SMILES Parse Error: Failed parsing SMILES 'FAIL' for input: 'FAIL'\n",
            "WARNING:deepchem.feat.base_classes:Failed to featurize datapoint 0, None. Appending empty array\n",
            "WARNING:deepchem.feat.base_classes:Exception message: Python argument types in\n",
            "    rdkit.Chem.rdmolfiles.CanonicalRankAtoms(NoneType)\n",
            "did not match C++ signature:\n",
            "    CanonicalRankAtoms(RDKit::ROMol mol, bool breakTies=True, bool includeChirality=True, bool includeIsotopes=True, bool includeAtomMaps=True, bool includeChiralPresence=False)\n",
            "[10:12:05] SMILES Parse Error: syntax error while parsing: FAIL\n",
            "[10:12:05] SMILES Parse Error: check for mistakes around position 2:\n",
            "[10:12:05] FAIL\n",
            "[10:12:05] ~^\n",
            "[10:12:05] SMILES Parse Error: Failed parsing SMILES 'FAIL' for input: 'FAIL'\n",
            "WARNING:deepchem.feat.base_classes:Failed to featurize datapoint 0, None. Appending empty array\n",
            "WARNING:deepchem.feat.base_classes:Exception message: Python argument types in\n",
            "    rdkit.Chem.rdmolfiles.CanonicalRankAtoms(NoneType)\n",
            "did not match C++ signature:\n",
            "    CanonicalRankAtoms(RDKit::ROMol mol, bool breakTies=True, bool includeChirality=True, bool includeIsotopes=True, bool includeAtomMaps=True, bool includeChiralPresence=False)\n",
            "[10:12:56] SMILES Parse Error: syntax error while parsing: FAIL\n",
            "[10:12:56] SMILES Parse Error: check for mistakes around position 2:\n",
            "[10:12:56] FAIL\n",
            "[10:12:56] ~^\n",
            "[10:12:56] SMILES Parse Error: Failed parsing SMILES 'FAIL' for input: 'FAIL'\n",
            "WARNING:deepchem.feat.base_classes:Failed to featurize datapoint 0, None. Appending empty array\n",
            "WARNING:deepchem.feat.base_classes:Exception message: Python argument types in\n",
            "    rdkit.Chem.rdmolfiles.CanonicalRankAtoms(NoneType)\n",
            "did not match C++ signature:\n",
            "    CanonicalRankAtoms(RDKit::ROMol mol, bool breakTies=True, bool includeChirality=True, bool includeIsotopes=True, bool includeAtomMaps=True, bool includeChiralPresence=False)\n",
            "[10:13:02] SMILES Parse Error: syntax error while parsing: FAIL\n",
            "[10:13:02] SMILES Parse Error: check for mistakes around position 2:\n",
            "[10:13:02] FAIL\n",
            "[10:13:02] ~^\n",
            "[10:13:02] SMILES Parse Error: Failed parsing SMILES 'FAIL' for input: 'FAIL'\n",
            "WARNING:deepchem.feat.base_classes:Failed to featurize datapoint 0, None. Appending empty array\n",
            "WARNING:deepchem.feat.base_classes:Exception message: Python argument types in\n",
            "    rdkit.Chem.rdmolfiles.CanonicalRankAtoms(NoneType)\n",
            "did not match C++ signature:\n",
            "    CanonicalRankAtoms(RDKit::ROMol mol, bool breakTies=True, bool includeChirality=True, bool includeIsotopes=True, bool includeAtomMaps=True, bool includeChiralPresence=False)\n",
            "[10:13:11] SMILES Parse Error: syntax error while parsing: FAIL\n",
            "[10:13:11] SMILES Parse Error: check for mistakes around position 2:\n",
            "[10:13:11] FAIL\n",
            "[10:13:11] ~^\n",
            "[10:13:11] SMILES Parse Error: Failed parsing SMILES 'FAIL' for input: 'FAIL'\n",
            "WARNING:deepchem.feat.base_classes:Failed to featurize datapoint 0, None. Appending empty array\n",
            "WARNING:deepchem.feat.base_classes:Exception message: Python argument types in\n",
            "    rdkit.Chem.rdmolfiles.CanonicalRankAtoms(NoneType)\n",
            "did not match C++ signature:\n",
            "    CanonicalRankAtoms(RDKit::ROMol mol, bool breakTies=True, bool includeChirality=True, bool includeIsotopes=True, bool includeAtomMaps=True, bool includeChiralPresence=False)\n",
            "[10:13:20] SMILES Parse Error: syntax error while parsing: FAIL\n",
            "[10:13:20] SMILES Parse Error: check for mistakes around position 2:\n",
            "[10:13:20] FAIL\n",
            "[10:13:20] ~^\n",
            "[10:13:20] SMILES Parse Error: Failed parsing SMILES 'FAIL' for input: 'FAIL'\n",
            "WARNING:deepchem.feat.base_classes:Failed to featurize datapoint 0, None. Appending empty array\n",
            "WARNING:deepchem.feat.base_classes:Exception message: Python argument types in\n",
            "    rdkit.Chem.rdmolfiles.CanonicalRankAtoms(NoneType)\n",
            "did not match C++ signature:\n",
            "    CanonicalRankAtoms(RDKit::ROMol mol, bool breakTies=True, bool includeChirality=True, bool includeIsotopes=True, bool includeAtomMaps=True, bool includeChiralPresence=False)\n"
          ]
        },
        {
          "output_type": "stream",
          "name": "stdout",
          "text": [
            "Dropping 16 molecules that couldn't be featurized.\n"
          ]
        }
      ],
      "source": [
        "X_raw = df_tox.smiles.apply(lambda x: featurizer.featurize(x))\n",
        "y_raw = df_tox.toxic\n",
        "\n",
        "# As you see from the warnings, mordred couldn't calculate features for a few molecules (but don't worry!)\n",
        "# Remove these molecules from the dataset\n",
        "\n",
        "# Featurizer should return array of size (1, number_of_features)\n",
        "missing = X_raw.apply(lambda x: x.shape == (1, features.shape[1]))\n",
        "\n",
        "print(f\"Dropping {(~missing).sum()} molecules that couldn't be featurized.\")\n",
        "X = X_raw[missing].values\n",
        "y = y_raw[missing].values\n",
        "\n",
        "X = np.concatenate(X)\n",
        "\n",
        "# Save\n",
        "np.save(\"data/features_tox.npy\", X)\n",
        "np.save(\"data/y_tox.npy\", y)"
      ]
    },
    {
      "cell_type": "code",
      "execution_count": 51,
      "id": "4b6dc3fc-87f0-4198-a637-bb602803c49e",
      "metadata": {
        "id": "4b6dc3fc-87f0-4198-a637-bb602803c49e"
      },
      "outputs": [],
      "source": [
        "X = np.load(\"data/features_tox.npy\")\n",
        "y = np.load(\"data/y_tox.npy\")"
      ]
    },
    {
      "cell_type": "code",
      "execution_count": null,
      "id": "df19e380-eaf6-4f72-851c-ccb226f1611d",
      "metadata": {
        "id": "df19e380-eaf6-4f72-851c-ccb226f1611d"
      },
      "outputs": [],
      "source": [
        "# Challenge: Which molecules couldn't be featurized? Why?\n",
        "# Using code from above, visualize the faulty molecules.\n",
        "\n",
        "##################\n",
        "# Your code here #\n",
        "##################"
      ]
    },
    {
      "cell_type": "markdown",
      "id": "4920f04b-5cb3-4057-bac5-e7ed8eca57dc",
      "metadata": {
        "tags": [],
        "id": "4920f04b-5cb3-4057-bac5-e7ed8eca57dc"
      },
      "source": [
        "## Data splitting.\n",
        "\n",
        "For this exercise, we will do a simple train/test split as we will not optimize hyperparameters. (Maybe bonus exercise here?)"
      ]
    },
    {
      "cell_type": "code",
      "execution_count": 52,
      "id": "23c46051-b3dc-4931-91ed-7904dcc1d08c",
      "metadata": {
        "id": "23c46051-b3dc-4931-91ed-7904dcc1d08c",
        "outputId": "66d17c03-63a7-4ad2-e553-be7718cff6be",
        "colab": {
          "base_uri": "https://localhost:8080/"
        }
      },
      "outputs": [
        {
          "output_type": "stream",
          "name": "stdout",
          "text": [
            "Train set size is 6347 rows, test set size is 1587 rows.\n"
          ]
        }
      ],
      "source": [
        "from sklearn.model_selection import train_test_split\n",
        "\n",
        "# train data size : test data size = 0.8 : 0.2\n",
        "# fixed seed using the random_state parameter, so it always has the same split.\n",
        "X_train, X_test, y_train, y_test = train_test_split(X,y,train_size=0.8,random_state=0)\n",
        "\n",
        "print(f\"Train set size is {X_train.shape[0]} rows, test set size is {X_test.shape[0]} rows.\")"
      ]
    },
    {
      "cell_type": "markdown",
      "id": "a5de382e-50de-4211-911a-08ed09bfb4a5",
      "metadata": {
        "tags": [],
        "id": "a5de382e-50de-4211-911a-08ed09bfb4a5"
      },
      "source": [
        "## Model\n",
        "\n",
        "Let's train a [Random Forest Classification](https://scikit-learn.org/stable/modules/generated/sklearn.ensemble.RandomForestClassifier.html) from scikit-learn."
      ]
    },
    {
      "cell_type": "code",
      "execution_count": 53,
      "id": "33d6b738-759b-4b47-9c0f-fa0e7ca8e9b7",
      "metadata": {
        "id": "33d6b738-759b-4b47-9c0f-fa0e7ca8e9b7"
      },
      "outputs": [],
      "source": [
        "from sklearn.ensemble import RandomForestClassifier\n",
        "\n",
        "rf_clf = RandomForestClassifier(n_estimators=300,max_depth=10,random_state=0)\n",
        "rf_clf.fit(X_train, y_train);"
      ]
    },
    {
      "cell_type": "markdown",
      "id": "13029e24-4b8c-45c5-9bd9-be41479dba50",
      "metadata": {
        "tags": [],
        "id": "13029e24-4b8c-45c5-9bd9-be41479dba50"
      },
      "source": [
        "### Exercise: You have already seen some cool classification algorithms in class.\n",
        "\n",
        "In this exercise, your task is to implement your 2 favorite algorithms using sklearn.\n",
        "\n",
        "Recommendations:\n",
        "\n",
        "- You can choose from [Logistic Regression](https://scikit-learn.org/stable/modules/linear_model.html#logistic-regression), [Support Vector Machines](https://scikit-learn.org/stable/modules/svm.html#classification), [Gradient Boosting](https://scikit-learn.org/stable/modules/ensemble.html#gradient-tree-boosting), or any other from the [sklearn documentation](https://scikit-learn.org/stable/supervised_learning.html).\n",
        "- Give a different name to each model. For instance, our Random Forest model is `rf_clf`."
      ]
    },
    {
      "cell_type": "code",
      "execution_count": 57,
      "id": "567ec970-200c-4d22-bd40-e2e791faa004",
      "metadata": {
        "id": "567ec970-200c-4d22-bd40-e2e791faa004",
        "outputId": "bd8670b8-c7b4-49e4-d6e2-ffa465eedaca",
        "colab": {
          "base_uri": "https://localhost:8080/",
          "height": 57
        }
      },
      "outputs": [
        {
          "output_type": "execute_result",
          "data": {
            "text/plain": [
              "SVC()"
            ],
            "text/html": [
              "<style>#sk-container-id-1 {\n",
              "  /* Definition of color scheme common for light and dark mode */\n",
              "  --sklearn-color-text: #000;\n",
              "  --sklearn-color-text-muted: #666;\n",
              "  --sklearn-color-line: gray;\n",
              "  /* Definition of color scheme for unfitted estimators */\n",
              "  --sklearn-color-unfitted-level-0: #fff5e6;\n",
              "  --sklearn-color-unfitted-level-1: #f6e4d2;\n",
              "  --sklearn-color-unfitted-level-2: #ffe0b3;\n",
              "  --sklearn-color-unfitted-level-3: chocolate;\n",
              "  /* Definition of color scheme for fitted estimators */\n",
              "  --sklearn-color-fitted-level-0: #f0f8ff;\n",
              "  --sklearn-color-fitted-level-1: #d4ebff;\n",
              "  --sklearn-color-fitted-level-2: #b3dbfd;\n",
              "  --sklearn-color-fitted-level-3: cornflowerblue;\n",
              "\n",
              "  /* Specific color for light theme */\n",
              "  --sklearn-color-text-on-default-background: var(--sg-text-color, var(--theme-code-foreground, var(--jp-content-font-color1, black)));\n",
              "  --sklearn-color-background: var(--sg-background-color, var(--theme-background, var(--jp-layout-color0, white)));\n",
              "  --sklearn-color-border-box: var(--sg-text-color, var(--theme-code-foreground, var(--jp-content-font-color1, black)));\n",
              "  --sklearn-color-icon: #696969;\n",
              "\n",
              "  @media (prefers-color-scheme: dark) {\n",
              "    /* Redefinition of color scheme for dark theme */\n",
              "    --sklearn-color-text-on-default-background: var(--sg-text-color, var(--theme-code-foreground, var(--jp-content-font-color1, white)));\n",
              "    --sklearn-color-background: var(--sg-background-color, var(--theme-background, var(--jp-layout-color0, #111)));\n",
              "    --sklearn-color-border-box: var(--sg-text-color, var(--theme-code-foreground, var(--jp-content-font-color1, white)));\n",
              "    --sklearn-color-icon: #878787;\n",
              "  }\n",
              "}\n",
              "\n",
              "#sk-container-id-1 {\n",
              "  color: var(--sklearn-color-text);\n",
              "}\n",
              "\n",
              "#sk-container-id-1 pre {\n",
              "  padding: 0;\n",
              "}\n",
              "\n",
              "#sk-container-id-1 input.sk-hidden--visually {\n",
              "  border: 0;\n",
              "  clip: rect(1px 1px 1px 1px);\n",
              "  clip: rect(1px, 1px, 1px, 1px);\n",
              "  height: 1px;\n",
              "  margin: -1px;\n",
              "  overflow: hidden;\n",
              "  padding: 0;\n",
              "  position: absolute;\n",
              "  width: 1px;\n",
              "}\n",
              "\n",
              "#sk-container-id-1 div.sk-dashed-wrapped {\n",
              "  border: 1px dashed var(--sklearn-color-line);\n",
              "  margin: 0 0.4em 0.5em 0.4em;\n",
              "  box-sizing: border-box;\n",
              "  padding-bottom: 0.4em;\n",
              "  background-color: var(--sklearn-color-background);\n",
              "}\n",
              "\n",
              "#sk-container-id-1 div.sk-container {\n",
              "  /* jupyter's `normalize.less` sets `[hidden] { display: none; }`\n",
              "     but bootstrap.min.css set `[hidden] { display: none !important; }`\n",
              "     so we also need the `!important` here to be able to override the\n",
              "     default hidden behavior on the sphinx rendered scikit-learn.org.\n",
              "     See: https://github.com/scikit-learn/scikit-learn/issues/21755 */\n",
              "  display: inline-block !important;\n",
              "  position: relative;\n",
              "}\n",
              "\n",
              "#sk-container-id-1 div.sk-text-repr-fallback {\n",
              "  display: none;\n",
              "}\n",
              "\n",
              "div.sk-parallel-item,\n",
              "div.sk-serial,\n",
              "div.sk-item {\n",
              "  /* draw centered vertical line to link estimators */\n",
              "  background-image: linear-gradient(var(--sklearn-color-text-on-default-background), var(--sklearn-color-text-on-default-background));\n",
              "  background-size: 2px 100%;\n",
              "  background-repeat: no-repeat;\n",
              "  background-position: center center;\n",
              "}\n",
              "\n",
              "/* Parallel-specific style estimator block */\n",
              "\n",
              "#sk-container-id-1 div.sk-parallel-item::after {\n",
              "  content: \"\";\n",
              "  width: 100%;\n",
              "  border-bottom: 2px solid var(--sklearn-color-text-on-default-background);\n",
              "  flex-grow: 1;\n",
              "}\n",
              "\n",
              "#sk-container-id-1 div.sk-parallel {\n",
              "  display: flex;\n",
              "  align-items: stretch;\n",
              "  justify-content: center;\n",
              "  background-color: var(--sklearn-color-background);\n",
              "  position: relative;\n",
              "}\n",
              "\n",
              "#sk-container-id-1 div.sk-parallel-item {\n",
              "  display: flex;\n",
              "  flex-direction: column;\n",
              "}\n",
              "\n",
              "#sk-container-id-1 div.sk-parallel-item:first-child::after {\n",
              "  align-self: flex-end;\n",
              "  width: 50%;\n",
              "}\n",
              "\n",
              "#sk-container-id-1 div.sk-parallel-item:last-child::after {\n",
              "  align-self: flex-start;\n",
              "  width: 50%;\n",
              "}\n",
              "\n",
              "#sk-container-id-1 div.sk-parallel-item:only-child::after {\n",
              "  width: 0;\n",
              "}\n",
              "\n",
              "/* Serial-specific style estimator block */\n",
              "\n",
              "#sk-container-id-1 div.sk-serial {\n",
              "  display: flex;\n",
              "  flex-direction: column;\n",
              "  align-items: center;\n",
              "  background-color: var(--sklearn-color-background);\n",
              "  padding-right: 1em;\n",
              "  padding-left: 1em;\n",
              "}\n",
              "\n",
              "\n",
              "/* Toggleable style: style used for estimator/Pipeline/ColumnTransformer box that is\n",
              "clickable and can be expanded/collapsed.\n",
              "- Pipeline and ColumnTransformer use this feature and define the default style\n",
              "- Estimators will overwrite some part of the style using the `sk-estimator` class\n",
              "*/\n",
              "\n",
              "/* Pipeline and ColumnTransformer style (default) */\n",
              "\n",
              "#sk-container-id-1 div.sk-toggleable {\n",
              "  /* Default theme specific background. It is overwritten whether we have a\n",
              "  specific estimator or a Pipeline/ColumnTransformer */\n",
              "  background-color: var(--sklearn-color-background);\n",
              "}\n",
              "\n",
              "/* Toggleable label */\n",
              "#sk-container-id-1 label.sk-toggleable__label {\n",
              "  cursor: pointer;\n",
              "  display: flex;\n",
              "  width: 100%;\n",
              "  margin-bottom: 0;\n",
              "  padding: 0.5em;\n",
              "  box-sizing: border-box;\n",
              "  text-align: center;\n",
              "  align-items: start;\n",
              "  justify-content: space-between;\n",
              "  gap: 0.5em;\n",
              "}\n",
              "\n",
              "#sk-container-id-1 label.sk-toggleable__label .caption {\n",
              "  font-size: 0.6rem;\n",
              "  font-weight: lighter;\n",
              "  color: var(--sklearn-color-text-muted);\n",
              "}\n",
              "\n",
              "#sk-container-id-1 label.sk-toggleable__label-arrow:before {\n",
              "  /* Arrow on the left of the label */\n",
              "  content: \"▸\";\n",
              "  float: left;\n",
              "  margin-right: 0.25em;\n",
              "  color: var(--sklearn-color-icon);\n",
              "}\n",
              "\n",
              "#sk-container-id-1 label.sk-toggleable__label-arrow:hover:before {\n",
              "  color: var(--sklearn-color-text);\n",
              "}\n",
              "\n",
              "/* Toggleable content - dropdown */\n",
              "\n",
              "#sk-container-id-1 div.sk-toggleable__content {\n",
              "  max-height: 0;\n",
              "  max-width: 0;\n",
              "  overflow: hidden;\n",
              "  text-align: left;\n",
              "  /* unfitted */\n",
              "  background-color: var(--sklearn-color-unfitted-level-0);\n",
              "}\n",
              "\n",
              "#sk-container-id-1 div.sk-toggleable__content.fitted {\n",
              "  /* fitted */\n",
              "  background-color: var(--sklearn-color-fitted-level-0);\n",
              "}\n",
              "\n",
              "#sk-container-id-1 div.sk-toggleable__content pre {\n",
              "  margin: 0.2em;\n",
              "  border-radius: 0.25em;\n",
              "  color: var(--sklearn-color-text);\n",
              "  /* unfitted */\n",
              "  background-color: var(--sklearn-color-unfitted-level-0);\n",
              "}\n",
              "\n",
              "#sk-container-id-1 div.sk-toggleable__content.fitted pre {\n",
              "  /* unfitted */\n",
              "  background-color: var(--sklearn-color-fitted-level-0);\n",
              "}\n",
              "\n",
              "#sk-container-id-1 input.sk-toggleable__control:checked~div.sk-toggleable__content {\n",
              "  /* Expand drop-down */\n",
              "  max-height: 200px;\n",
              "  max-width: 100%;\n",
              "  overflow: auto;\n",
              "}\n",
              "\n",
              "#sk-container-id-1 input.sk-toggleable__control:checked~label.sk-toggleable__label-arrow:before {\n",
              "  content: \"▾\";\n",
              "}\n",
              "\n",
              "/* Pipeline/ColumnTransformer-specific style */\n",
              "\n",
              "#sk-container-id-1 div.sk-label input.sk-toggleable__control:checked~label.sk-toggleable__label {\n",
              "  color: var(--sklearn-color-text);\n",
              "  background-color: var(--sklearn-color-unfitted-level-2);\n",
              "}\n",
              "\n",
              "#sk-container-id-1 div.sk-label.fitted input.sk-toggleable__control:checked~label.sk-toggleable__label {\n",
              "  background-color: var(--sklearn-color-fitted-level-2);\n",
              "}\n",
              "\n",
              "/* Estimator-specific style */\n",
              "\n",
              "/* Colorize estimator box */\n",
              "#sk-container-id-1 div.sk-estimator input.sk-toggleable__control:checked~label.sk-toggleable__label {\n",
              "  /* unfitted */\n",
              "  background-color: var(--sklearn-color-unfitted-level-2);\n",
              "}\n",
              "\n",
              "#sk-container-id-1 div.sk-estimator.fitted input.sk-toggleable__control:checked~label.sk-toggleable__label {\n",
              "  /* fitted */\n",
              "  background-color: var(--sklearn-color-fitted-level-2);\n",
              "}\n",
              "\n",
              "#sk-container-id-1 div.sk-label label.sk-toggleable__label,\n",
              "#sk-container-id-1 div.sk-label label {\n",
              "  /* The background is the default theme color */\n",
              "  color: var(--sklearn-color-text-on-default-background);\n",
              "}\n",
              "\n",
              "/* On hover, darken the color of the background */\n",
              "#sk-container-id-1 div.sk-label:hover label.sk-toggleable__label {\n",
              "  color: var(--sklearn-color-text);\n",
              "  background-color: var(--sklearn-color-unfitted-level-2);\n",
              "}\n",
              "\n",
              "/* Label box, darken color on hover, fitted */\n",
              "#sk-container-id-1 div.sk-label.fitted:hover label.sk-toggleable__label.fitted {\n",
              "  color: var(--sklearn-color-text);\n",
              "  background-color: var(--sklearn-color-fitted-level-2);\n",
              "}\n",
              "\n",
              "/* Estimator label */\n",
              "\n",
              "#sk-container-id-1 div.sk-label label {\n",
              "  font-family: monospace;\n",
              "  font-weight: bold;\n",
              "  display: inline-block;\n",
              "  line-height: 1.2em;\n",
              "}\n",
              "\n",
              "#sk-container-id-1 div.sk-label-container {\n",
              "  text-align: center;\n",
              "}\n",
              "\n",
              "/* Estimator-specific */\n",
              "#sk-container-id-1 div.sk-estimator {\n",
              "  font-family: monospace;\n",
              "  border: 1px dotted var(--sklearn-color-border-box);\n",
              "  border-radius: 0.25em;\n",
              "  box-sizing: border-box;\n",
              "  margin-bottom: 0.5em;\n",
              "  /* unfitted */\n",
              "  background-color: var(--sklearn-color-unfitted-level-0);\n",
              "}\n",
              "\n",
              "#sk-container-id-1 div.sk-estimator.fitted {\n",
              "  /* fitted */\n",
              "  background-color: var(--sklearn-color-fitted-level-0);\n",
              "}\n",
              "\n",
              "/* on hover */\n",
              "#sk-container-id-1 div.sk-estimator:hover {\n",
              "  /* unfitted */\n",
              "  background-color: var(--sklearn-color-unfitted-level-2);\n",
              "}\n",
              "\n",
              "#sk-container-id-1 div.sk-estimator.fitted:hover {\n",
              "  /* fitted */\n",
              "  background-color: var(--sklearn-color-fitted-level-2);\n",
              "}\n",
              "\n",
              "/* Specification for estimator info (e.g. \"i\" and \"?\") */\n",
              "\n",
              "/* Common style for \"i\" and \"?\" */\n",
              "\n",
              ".sk-estimator-doc-link,\n",
              "a:link.sk-estimator-doc-link,\n",
              "a:visited.sk-estimator-doc-link {\n",
              "  float: right;\n",
              "  font-size: smaller;\n",
              "  line-height: 1em;\n",
              "  font-family: monospace;\n",
              "  background-color: var(--sklearn-color-background);\n",
              "  border-radius: 1em;\n",
              "  height: 1em;\n",
              "  width: 1em;\n",
              "  text-decoration: none !important;\n",
              "  margin-left: 0.5em;\n",
              "  text-align: center;\n",
              "  /* unfitted */\n",
              "  border: var(--sklearn-color-unfitted-level-1) 1pt solid;\n",
              "  color: var(--sklearn-color-unfitted-level-1);\n",
              "}\n",
              "\n",
              ".sk-estimator-doc-link.fitted,\n",
              "a:link.sk-estimator-doc-link.fitted,\n",
              "a:visited.sk-estimator-doc-link.fitted {\n",
              "  /* fitted */\n",
              "  border: var(--sklearn-color-fitted-level-1) 1pt solid;\n",
              "  color: var(--sklearn-color-fitted-level-1);\n",
              "}\n",
              "\n",
              "/* On hover */\n",
              "div.sk-estimator:hover .sk-estimator-doc-link:hover,\n",
              ".sk-estimator-doc-link:hover,\n",
              "div.sk-label-container:hover .sk-estimator-doc-link:hover,\n",
              ".sk-estimator-doc-link:hover {\n",
              "  /* unfitted */\n",
              "  background-color: var(--sklearn-color-unfitted-level-3);\n",
              "  color: var(--sklearn-color-background);\n",
              "  text-decoration: none;\n",
              "}\n",
              "\n",
              "div.sk-estimator.fitted:hover .sk-estimator-doc-link.fitted:hover,\n",
              ".sk-estimator-doc-link.fitted:hover,\n",
              "div.sk-label-container:hover .sk-estimator-doc-link.fitted:hover,\n",
              ".sk-estimator-doc-link.fitted:hover {\n",
              "  /* fitted */\n",
              "  background-color: var(--sklearn-color-fitted-level-3);\n",
              "  color: var(--sklearn-color-background);\n",
              "  text-decoration: none;\n",
              "}\n",
              "\n",
              "/* Span, style for the box shown on hovering the info icon */\n",
              ".sk-estimator-doc-link span {\n",
              "  display: none;\n",
              "  z-index: 9999;\n",
              "  position: relative;\n",
              "  font-weight: normal;\n",
              "  right: .2ex;\n",
              "  padding: .5ex;\n",
              "  margin: .5ex;\n",
              "  width: min-content;\n",
              "  min-width: 20ex;\n",
              "  max-width: 50ex;\n",
              "  color: var(--sklearn-color-text);\n",
              "  box-shadow: 2pt 2pt 4pt #999;\n",
              "  /* unfitted */\n",
              "  background: var(--sklearn-color-unfitted-level-0);\n",
              "  border: .5pt solid var(--sklearn-color-unfitted-level-3);\n",
              "}\n",
              "\n",
              ".sk-estimator-doc-link.fitted span {\n",
              "  /* fitted */\n",
              "  background: var(--sklearn-color-fitted-level-0);\n",
              "  border: var(--sklearn-color-fitted-level-3);\n",
              "}\n",
              "\n",
              ".sk-estimator-doc-link:hover span {\n",
              "  display: block;\n",
              "}\n",
              "\n",
              "/* \"?\"-specific style due to the `<a>` HTML tag */\n",
              "\n",
              "#sk-container-id-1 a.estimator_doc_link {\n",
              "  float: right;\n",
              "  font-size: 1rem;\n",
              "  line-height: 1em;\n",
              "  font-family: monospace;\n",
              "  background-color: var(--sklearn-color-background);\n",
              "  border-radius: 1rem;\n",
              "  height: 1rem;\n",
              "  width: 1rem;\n",
              "  text-decoration: none;\n",
              "  /* unfitted */\n",
              "  color: var(--sklearn-color-unfitted-level-1);\n",
              "  border: var(--sklearn-color-unfitted-level-1) 1pt solid;\n",
              "}\n",
              "\n",
              "#sk-container-id-1 a.estimator_doc_link.fitted {\n",
              "  /* fitted */\n",
              "  border: var(--sklearn-color-fitted-level-1) 1pt solid;\n",
              "  color: var(--sklearn-color-fitted-level-1);\n",
              "}\n",
              "\n",
              "/* On hover */\n",
              "#sk-container-id-1 a.estimator_doc_link:hover {\n",
              "  /* unfitted */\n",
              "  background-color: var(--sklearn-color-unfitted-level-3);\n",
              "  color: var(--sklearn-color-background);\n",
              "  text-decoration: none;\n",
              "}\n",
              "\n",
              "#sk-container-id-1 a.estimator_doc_link.fitted:hover {\n",
              "  /* fitted */\n",
              "  background-color: var(--sklearn-color-fitted-level-3);\n",
              "}\n",
              "</style><div id=\"sk-container-id-1\" class=\"sk-top-container\"><div class=\"sk-text-repr-fallback\"><pre>SVC()</pre><b>In a Jupyter environment, please rerun this cell to show the HTML representation or trust the notebook. <br />On GitHub, the HTML representation is unable to render, please try loading this page with nbviewer.org.</b></div><div class=\"sk-container\" hidden><div class=\"sk-item\"><div class=\"sk-estimator fitted sk-toggleable\"><input class=\"sk-toggleable__control sk-hidden--visually\" id=\"sk-estimator-id-1\" type=\"checkbox\" checked><label for=\"sk-estimator-id-1\" class=\"sk-toggleable__label fitted sk-toggleable__label-arrow\"><div><div>SVC</div></div><div><a class=\"sk-estimator-doc-link fitted\" rel=\"noreferrer\" target=\"_blank\" href=\"https://scikit-learn.org/1.6/modules/generated/sklearn.svm.SVC.html\">?<span>Documentation for SVC</span></a><span class=\"sk-estimator-doc-link fitted\">i<span>Fitted</span></span></div></label><div class=\"sk-toggleable__content fitted\"><pre>SVC()</pre></div> </div></div></div></div>"
            ]
          },
          "metadata": {},
          "execution_count": 57
        }
      ],
      "source": [
        "##################\n",
        "# Your code here #\n",
        "from sklearn.ensemble import GradientBoostingClassifier\n",
        "\n",
        "gbc = GradientBoostingClassifier()\n",
        "gbc.fit(X_train,y_train)\n",
        "\n",
        "from sklearn.svm import SVC\n",
        "\n",
        "svc_cl = SVC()\n",
        "svc_cl.fit(X_train,y_train)\n",
        "##################"
      ]
    },
    {
      "cell_type": "markdown",
      "id": "2cf09c91-bdcc-450b-ac7e-0799111fb453",
      "metadata": {
        "id": "2cf09c91-bdcc-450b-ac7e-0799111fb453"
      },
      "source": [
        "## After training these models, let's see which one worked best!\n",
        "\n",
        "For the evaluation of classification models, **we use different metrics** than evaluation of regression models. \\\n",
        "You can read more about each metric [here](https://scikit-learn.org/stable/modules/model_evaluation.html), but for this tutorial we will use [accuracy](https://scikit-learn.org/stable/modules/generated/sklearn.metrics.accuracy_score.html#sklearn.metrics.accuracy_score), [ROC-AUC](https://scikit-learn.org/stable/modules/generated/sklearn.metrics.roc_auc_score.html#sklearn.metrics.roc_auc_score), and [F1 Score](https://scikit-learn.org/stable/modules/generated/sklearn.metrics.f1_score.html#sklearn.metrics.f1_score)."
      ]
    },
    {
      "cell_type": "code",
      "execution_count": 58,
      "id": "121851be-f4b9-4ac0-83e0-269ecff3de7b",
      "metadata": {
        "id": "121851be-f4b9-4ac0-83e0-269ecff3de7b"
      },
      "outputs": [],
      "source": [
        "# Let's evaluate our models\n",
        "y_pred_rf = rf_clf.predict(X_test)\n",
        "\n",
        "y_pred_gbc = gbc.predict(X_test)\n",
        "y_pred_svc = svc_cl.predict(X_test)\n",
        "# Exercise: Use your models to predict the toxicity of the molecules on the test set.\n",
        "\n",
        "##################\n",
        "# Your code here #\n",
        "##################"
      ]
    },
    {
      "cell_type": "code",
      "execution_count": 60,
      "id": "67108633-40d3-4cae-b45d-6f5853254dc2",
      "metadata": {
        "id": "67108633-40d3-4cae-b45d-6f5853254dc2",
        "outputId": "30197b13-c5b3-4b2c-d11c-1f8799b9d573",
        "colab": {
          "base_uri": "https://localhost:8080/"
        }
      },
      "outputs": [
        {
          "output_type": "stream",
          "name": "stdout",
          "text": [
            "Accuracy of Random Forest Classifier is 0.829\n",
            "ROC-AUC of Random Forest Classifier is 0.682\n",
            "F1 Score of Random Forest Classifier is 0.528\n",
            "Accuracy of Gradient Boosting Classifier is 0.829\n",
            "ROC-AUC of Gradient Boosting Classifier is 0.689\n",
            "F1 Score of Gradient Boosting Classifier is 0.541\n",
            "Accuracy of SVC is 0.760\n",
            "ROC-AUC of SVC is 0.500\n",
            "F1 Score of SVC is 0.000\n"
          ]
        }
      ],
      "source": [
        "from sklearn.metrics import (accuracy_score,roc_auc_score,f1_score)\n",
        "\n",
        "# Let's calculate accuracy_score for all our models\n",
        "acc_rf = accuracy_score(y_test, y_pred_rf)\n",
        "print(f\"Accuracy of Random Forest Classifier is {acc_rf:.3f}\")\n",
        "auc_rf = roc_auc_score(y_test, y_pred_rf)\n",
        "print(f\"ROC-AUC of Random Forest Classifier is {auc_rf:.3f}\")\n",
        "f1s_rf = f1_score(y_test, y_pred_rf)\n",
        "print(f\"F1 Score of Random Forest Classifier is {f1s_rf:.3f}\")\n",
        "\n",
        "# Exercise: Calculate the 3 metrics for every model you trained, and compare results\n",
        "\n",
        "##################\n",
        "acc_gbc = accuracy_score(y_test, y_pred_gbc)\n",
        "print(f\"Accuracy of Gradient Boosting Classifier is {acc_gbc:.3f}\")\n",
        "auc_gbc = roc_auc_score(y_test, y_pred_gbc)\n",
        "print(f\"ROC-AUC of Gradient Boosting Classifier is {auc_gbc:.3f}\")\n",
        "f1s_gbc = f1_score(y_test, y_pred_gbc)\n",
        "print(f\"F1 Score of Gradient Boosting Classifier is {f1s_gbc:.3f}\")\n",
        "# Your code here #\n",
        "acc_svc = accuracy_score(y_test, y_pred_svc)\n",
        "print(f\"Accuracy of SVC is {acc_svc:.3f}\")\n",
        "auc_svc = roc_auc_score(y_test, y_pred_svc)\n",
        "print(f\"ROC-AUC of SVC is {auc_svc:.3f}\")\n",
        "f1s_svc = f1_score(y_test, y_pred_svc)\n",
        "print(f\"F1 Score of SVC is {f1s_svc:.3f}\")\n",
        "##################"
      ]
    },
    {
      "cell_type": "markdown",
      "id": "c2eae97b-af7f-4d3a-a834-48ed7a400587",
      "metadata": {
        "id": "c2eae97b-af7f-4d3a-a834-48ed7a400587"
      },
      "source": [
        "---\n",
        "Find out what each metric is telling us. Should we trust such high accuracies? Why is accuracy so high compared to the other metrics?\n",
        "\n",
        "YOUR ANSWER:\n",
        "Accuracy just tells us the count number of correct predictions made by our model. ROC-AUC tells us how well a model can produce relative scores to discriminate between positive or negative instances across all classification thresholds. if it is 0.5, then it is randomly guessing, whereas 1 is the best score. F1 tells us about precision and recall, which focus on the quality of positive and negative predictions, respectively. The higher the F1 value, the better.\n",
        "\n",
        "---"
      ]
    },
    {
      "cell_type": "code",
      "execution_count": 61,
      "id": "d71f8e9d-d0ef-40b4-945e-fa85507cb922",
      "metadata": {
        "id": "d71f8e9d-d0ef-40b4-945e-fa85507cb922",
        "outputId": "aafd1acd-21f4-4d05-ac77-ca770168417c",
        "colab": {
          "base_uri": "https://localhost:8080/",
          "height": 472
        }
      },
      "outputs": [
        {
          "output_type": "display_data",
          "data": {
            "text/plain": [
              "<Figure size 640x480 with 2 Axes>"
            ],
            "image/png": "[encoded data removed]"
          },
          "metadata": {}
        }
      ],
      "source": [
        "# TODO let's also do confusion matrix\n",
        "from pycm import ConfusionMatrix\n",
        "\n",
        "cm = ConfusionMatrix(actual_vector=y_test, predict_vector=y_pred_rf)\n",
        "cm.relabel(mapping={0:\"Non Toxic\", 1:\"Toxic\"})\n",
        "cm.plot(number_label=True);"
      ]
    },
    {
      "cell_type": "code",
      "source": [
        "cm1 = ConfusionMatrix(actual_vector=y_test, predict_vector=y_pred_gbc)\n",
        "cm1.relabel(mapping={0:\"Non Toxic\", 1:\"Toxic\"})\n",
        "cm1.plot(number_label=True);\n",
        "\n",
        "cm2 = ConfusionMatrix(actual_vector=y_test, predict_vector=y_pred_svc)\n",
        "cm2.relabel(mapping={0:\"Non Toxic\", 1:\"Toxic\"})\n",
        "cm2.plot(number_label=True);"
      ],
      "metadata": {
        "id": "xu7ALp_k5anl",
        "outputId": "d25ad01a-5b62-4778-cdad-19fc19b71cf0",
        "colab": {
          "base_uri": "https://localhost:8080/",
          "height": 927
        }
      },
      "id": "xu7ALp_k5anl",
      "execution_count": 62,
      "outputs": [
        {
          "output_type": "display_data",
          "data": {
            "text/plain": [
              "<Figure size 640x480 with 2 Axes>"
            ],
            "image/png": "[encoded data removed]"
          },
          "metadata": {}
        },
        {
          "output_type": "display_data",
          "data": {
            "text/plain": [
              "<Figure size 640x480 with 2 Axes>"
            ],
            "image/png": "[encoded data removed]"
          },
          "metadata": {}
        }
      ]
    },
    {
      "cell_type": "markdown",
      "id": "410c192a-ecbf-48f4-81fc-8d67fbefc7b4",
      "metadata": {
        "id": "410c192a-ecbf-48f4-81fc-8d67fbefc7b4"
      },
      "source": [
        "# So after all what, is my molecule toxic? Let's see what our model says!"
      ]
    },
    {
      "cell_type": "code",
      "execution_count": 69,
      "id": "1b927033-af33-4e0a-b561-5a89e839c28e",
      "metadata": {
        "id": "1b927033-af33-4e0a-b561-5a89e839c28e",
        "outputId": "0204b5e8-76de-45c9-c4df-e6b2f5298a35",
        "colab": {
          "base_uri": "https://localhost:8080/",
          "height": 1000
        }
      },
      "outputs": [
        {
          "output_type": "display_data",
          "data": {
            "image/png": "[encoded data removed]",
            "text/plain": [
              "<IPython.core.display.Image object>"
            ]
          },
          "metadata": {}
        },
        {
          "output_type": "display_data",
          "data": {
            "image/png": "[encoded data removed]",
            "text/plain": [
              "<IPython.core.display.Image object>"
            ]
          },
          "metadata": {}
        },
        {
          "output_type": "display_data",
          "data": {
            "image/png": "[encoded data removed]",
            "text/plain": [
              "<IPython.core.display.Image object>"
            ]
          },
          "metadata": {}
        },
        {
          "output_type": "display_data",
          "data": {
            "image/png": "[encoded data removed]",
            "text/plain": [
              "<IPython.core.display.Image object>"
            ]
          },
          "metadata": {}
        },
        {
          "output_type": "display_data",
          "data": {
            "image/png": "[encoded data removed]",
            "text/plain": [
              "<IPython.core.display.Image object>"
            ]
          },
          "metadata": {}
        },
        {
          "output_type": "display_data",
          "data": {
            "image/png": "[encoded data removed]",
            "text/plain": [
              "<IPython.core.display.Image object>"
            ]
          },
          "metadata": {}
        },
        {
          "output_type": "display_data",
          "data": {
            "image/png": "[encoded data removed]",
            "text/plain": [
              "<IPython.core.display.Image object>"
            ]
          },
          "metadata": {}
        },
        {
          "output_type": "display_data",
          "data": {
            "image/png": "[encoded data removed]",
            "text/plain": [
              "<IPython.core.display.Image object>"
            ]
          },
          "metadata": {}
        },
        {
          "output_type": "display_data",
          "data": {
            "image/png": "[encoded data removed]",
            "text/plain": [
              "<IPython.core.display.Image object>"
            ]
          },
          "metadata": {}
        },
        {
          "output_type": "display_data",
          "data": {
            "image/png": "[encoded data removed]",
            "text/plain": [
              "<IPython.core.display.Image object>"
            ]
          },
          "metadata": {}
        },
        {
          "output_type": "display_data",
          "data": {
            "image/png": "[encoded data removed]",
            "text/plain": [
              "<IPython.core.display.Image object>"
            ]
          },
          "metadata": {}
        },
        {
          "output_type": "display_data",
          "data": {
            "image/png": "[encoded data removed]",
            "text/plain": [
              "<IPython.core.display.Image object>"
            ]
          },
          "metadata": {}
        },
        {
          "output_type": "display_data",
          "data": {
            "image/png": "[encoded data removed]",
            "text/plain": [
              "<IPython.core.display.Image object>"
            ]
          },
          "metadata": {}
        },
        {
          "output_type": "display_data",
          "data": {
            "image/png": "[encoded data removed]",
            "text/plain": [
              "<IPython.core.display.Image object>"
            ]
          },
          "metadata": {}
        },
        {
          "output_type": "display_data",
          "data": {
            "image/png": "[encoded data removed]",
            "text/plain": [
              "<IPython.core.display.Image object>"
            ]
          },
          "metadata": {}
        }
      ],
      "source": [
        "from IPython.display import display\n",
        "\n",
        "def is_this_toxic(molecule, model):\n",
        "    \"\"\"\n",
        "    Ask model if the input molecule (smiles) is toxic or not.\n",
        "    \"\"\"\n",
        "\n",
        "    mol = Chem.MolFromSmiles(molecule)\n",
        "\n",
        "    # Calculate features\n",
        "    X_my_mol = featurizer.featurize(molecule)\n",
        "\n",
        "    # Get model prediction\n",
        "    is_toxic = model.predict(X_my_mol)\n",
        "    is_toxic = \"This molecule is toxic!\" if is_toxic else \"This is not toxic :)\"\n",
        "\n",
        "    img = Draw.MolsToGridImage([mol],subImgSize=(600,300),legends=[is_toxic],molsPerRow=1)\n",
        "    display(img)\n",
        "\n",
        "\n",
        "\n",
        "# Define molecule here\n",
        "molecule = \"O=C1N(C)C(C2=C(N=CN2C)N1C)=O\"\n",
        "molecule1 = \"CC1=CC=CC=C1\"\n",
        "molecule2 = \"ClC(Cl)Cl\"\n",
        "molecule3 = \"C=O\"\n",
        "molecule4 = \"[Hg]\"\n",
        "is_this_toxic(molecule, model=rf_clf)\n",
        "is_this_toxic(molecule,model = gbc)\n",
        "is_this_toxic(molecule,model = svc_cl)\n",
        "# Exercise: Test with your own molecule!\n",
        "is_this_toxic(molecule1, model=rf_clf)\n",
        "is_this_toxic(molecule1,model = gbc)\n",
        "is_this_toxic(molecule1,model = svc_cl)\n",
        "is_this_toxic(molecule2, model=rf_clf)\n",
        "is_this_toxic(molecule2,model = gbc)\n",
        "is_this_toxic(molecule2,model = svc_cl)\n",
        "is_this_toxic(molecule3, model=rf_clf)\n",
        "is_this_toxic(molecule3,model = gbc)\n",
        "is_this_toxic(molecule3,model = svc_cl)\n",
        "is_this_toxic(molecule4, model=rf_clf)\n",
        "is_this_toxic(molecule4,model = gbc)\n",
        "is_this_toxic(molecule4,model = svc_cl)"
      ]
    },
    {
      "cell_type": "markdown",
      "id": "095f403e-d4e8-4272-8e50-0807c4a9b21a",
      "metadata": {
        "id": "095f403e-d4e8-4272-8e50-0807c4a9b21a"
      },
      "source": [
        "---\n",
        "\n",
        "## Should I trust this though?: Interpretability and explainability.\n",
        "\n",
        "> Cool, our models know stuff, but we also want to know! \\\n",
        "> What do they look at when they predict toxicity? Is there a key feature?\n",
        "\n",
        "\\\n",
        "Model explainability is a critical component of machine learning that seeks to provide insights into how a model arrives at its predictions or decisions. In other words, it aims to make the \"black box\" of machine learning models more transparent, so that we can understand the factors that are driving the model's output.\n",
        "\n",
        "There are many different methods for achieving model explainability (more on this [here](https://www.kaggle.com/learn/machine-learning-explainability)). \\\n",
        "These techniques can help us identify which features or variables are most important in driving the model's output, and can provide insights into the model's decision-making process.\n",
        "\n",
        "### Let's explore ways of measuring feature importance, which will tell us what our models are looking out when making predictions."
      ]
    },
    {
      "cell_type": "code",
      "execution_count": 68,
      "id": "78e33561-72c1-4b3a-880c-93aa79825a56",
      "metadata": {
        "id": "78e33561-72c1-4b3a-880c-93aa79825a56",
        "outputId": "aead1a54-2b7c-48c8-d181-fd5c9836e188",
        "colab": {
          "base_uri": "https://localhost:8080/",
          "height": 487
        }
      },
      "outputs": [
        {
          "output_type": "display_data",
          "data": {
            "text/plain": [
              "<Figure size 640x480 with 1 Axes>"
            ],
            "image/png": "[encoded data removed]"
          },
          "metadata": {}
        }
      ],
      "source": [
        "importances = pd.Series(rf_clf.feature_importances_, name=\"importance\")\n",
        "importances.index += 1\n",
        "std = pd.Series(np.std([tree.feature_importances_ for tree in rf_clf.estimators_], axis=0),\n",
        "                name=\"std\")\n",
        "\n",
        "importances = pd.concat([importances, std], axis=1)\n",
        "importances = importances.sort_values(by=\"importance\", ascending=False).iloc[:20]\n",
        "\n",
        "\n",
        "import matplotlib.pyplot as plt\n",
        "\n",
        "fig, ax = plt.subplots()\n",
        "importances[\"importance\"].plot.bar(yerr=importances[\"std\"], ax=ax)\n",
        "ax.set_title(\"Feature importances using MDI\")\n",
        "ax.set_ylabel(\"Mean decrease in impurity\")\n",
        "fig.tight_layout()"
      ]
    },
    {
      "cell_type": "markdown",
      "id": "23ca8ce8-6a53-4f72-af0c-6399a0a13c00",
      "metadata": {
        "id": "23ca8ce8-6a53-4f72-af0c-6399a0a13c00"
      },
      "source": [
        "---\n",
        "What can we learn from these results? \\\n",
        "Go to [Mordred documentation](http://mordred-descriptor.github.io/documentation/master/descriptors.html) and find these features. What are they, and do they make any sense?\n",
        "\n",
        "### Discuss\n",
        "\n",
        "---"
      ]
    }
  ],
  "metadata": {
    "kernelspec": {
      "display_name": "Python 3.9.12 ('base')",
      "language": "python",
      "name": "python3"
    },
    "language_info": {
      "codemirror_mode": {
        "name": "ipython",
        "version": 3
      },
      "file_extension": ".py",
      "mimetype": "text/x-python",
      "name": "python",
      "nbconvert_exporter": "python",
      "pygments_lexer": "ipython3",
      "version": "3.9.12"
    },
    "vscode": {
      "interpreter": {
        "hash": "e1b1e114f4dae097b9e32029c5d22d73dc21a5dd723446d46774bd2adced9390"
      }
    },
    "colab": {
      "provenance": []
    }
  },
  "nbformat": 4,
  "nbformat_minor": 5
}