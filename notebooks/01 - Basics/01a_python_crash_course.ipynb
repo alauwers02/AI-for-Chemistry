{
  "cells": [
    {
      "cell_type": "markdown",
      "metadata": {
        "id": "view-in-github",
        "colab_type": "text"
      },
      "source": [
        "<a href=\"https://colab.research.google.com/github/alauwers02/AI-for-Chemistry/blob/main/notebooks/01%20-%20Basics/01a_python_crash_course.ipynb\" target=\"_parent\"><img src=\"https://colab.research.google.com/assets/colab-badge.svg\" alt=\"Open In Colab\"/></a>"
      ]
    },
    {
      "cell_type": "markdown",
      "metadata": {
        "id": "zPIotGcc8ya3"
      },
      "source": [
        "# Python/Jupyter Crash Course\n",
        "\n",
        "Some of you might have only little experience with Python and Jupyter notebooks. This introductory tutorial will help you to get started.\n",
        "\n",
        "## Jupyter notebooks\n",
        "\n",
        "\n",
        "Jupyter notebooks are web-based interactive computing platforms that allow you to create and share documents that contain live code, equations, visualizations and narrative text. They are commonly used for data analysis, scientific computing, and machine learning. Here are some steps to get started with Jupyter notebooks:\n",
        "\n",
        "- Running code: In a Jupyter notebook, you can write and run code in cells. To run a cell, simply click on it and press `Shift + Enter` or click the \"Run\" button in the toolbar.\n",
        "\n",
        "- Markdown cells: In addition to code cells, you can also create Markdown cells to write descriptive text. You can format the text using Markdown syntax to add headings, lists, links, etc..\n",
        "\n",
        "- Saving and exporting: To save your notebook, click on the \"Save\" button in the toolbar. Jupyter notebooks have the extension `.ipynb` and can be exported to other formats like HTML, PDF, etc.\n",
        "\n",
        "- Keyboard Shortcuts: Jupyter notebooks have several keyboard shortcuts that can make your work faster and more efficient. For example, you can press `Esc` to enter command mode and `Enter` to enter edit mode. The most frequently used Keyboard Shortcuts are: `b` for creating a cell `b`elow the current cell, `a` for creating a cell `a`bove the current cell, `dd` for deleting the current cell.\n",
        "\n",
        "## Google Colab\n",
        "\n",
        "Colab allows you to use Jupyter notebooks with others without having to download, install, or run anything."
      ]
    },
    {
      "cell_type": "markdown",
      "metadata": {
        "id": "tdgll_wnY2P5"
      },
      "source": [
        "## Introduction to Python\n",
        "\n",
        "If you have not too much experience with Python programming, we strongly recommend to go through some online tutorials, such as the ones from [Kaggle Learn](https://www.kaggle.com/learn). This will help you to get started. Here is just a brief overview of the basic concepts.\n",
        "\n",
        "### Variables\n",
        "\n",
        "Variables are used to store values in a program. You can assign values to variables using the `=` operator. For example (you can run it using `SHIFT + ENTER` or clicking on `Run`):"
      ]
    },
    {
      "cell_type": "code",
      "execution_count": 1,
      "metadata": {
        "colab": {
          "base_uri": "https://localhost:8080/"
        },
        "id": "WZc0lOwWY2P5",
        "outputId": "6523b050-ab89-4b0b-8b10-6a29dbeee0ea"
      },
      "outputs": [
        {
          "output_type": "stream",
          "name": "stdout",
          "text": [
            "15\n"
          ]
        }
      ],
      "source": [
        "x = 5 # assign 5 to the variable x\n",
        "y = 10 # assign 10 to the variable y\n",
        "z = x + y # add x and y, and assign the value to z\n",
        "print(z) # Output: 15"
      ]
    },
    {
      "cell_type": "markdown",
      "metadata": {
        "id": "5fraT9L7Y2P5"
      },
      "source": [
        "### Data Types\n",
        "\n",
        "Python has several built-in data types, including numbers (integer, float), strings, lists, tuples, and dictionaries. For example:"
      ]
    },
    {
      "cell_type": "code",
      "execution_count": 2,
      "metadata": {
        "id": "WpthEBQlY2P6"
      },
      "outputs": [],
      "source": [
        "# Numbers\n",
        "x = 5\n",
        "y = 5.5\n",
        "\n",
        "# Strings\n",
        "name = \"John Doe\"\n",
        "\n",
        "# Lists\n",
        "fruits = [\"apple\", \"banana\", \"cherry\"]\n",
        "\n",
        "# Tuples\n",
        "person = (\"John\", \"Doe\", 30)\n",
        "\n",
        "# Dictionaries\n",
        "person = {\n",
        "    \"first_name\": \"John\",\n",
        "    \"last_name\": \"Doe\",\n",
        "    \"age\": 30\n",
        "}\n"
      ]
    },
    {
      "cell_type": "markdown",
      "metadata": {
        "id": "dp22MLXTY2P6"
      },
      "source": [
        "### Operators\n",
        "Python supports several types of operators, including arithmetic, comparison, and assignment operators. For example:"
      ]
    },
    {
      "cell_type": "code",
      "execution_count": 3,
      "metadata": {
        "colab": {
          "base_uri": "https://localhost:8080/"
        },
        "id": "83lcLTFEY2P6",
        "outputId": "42e22057-c879-4360-d9de-69560dffe0be"
      },
      "outputs": [
        {
          "output_type": "stream",
          "name": "stdout",
          "text": [
            "8\n",
            "True\n",
            "8\n"
          ]
        }
      ],
      "source": [
        "# Arithmetic\n",
        "x = 5\n",
        "y = 3\n",
        "z = x + y\n",
        "print(z) # Output: 8\n",
        "\n",
        "# Comparison\n",
        "x = 5\n",
        "y = 3\n",
        "print(x > y) # Output: True\n",
        "\n",
        "# Assignment\n",
        "x = 5\n",
        "x += 3\n",
        "print(x) # Output: 8"
      ]
    },
    {
      "cell_type": "markdown",
      "metadata": {
        "id": "rZT5BCgIY2P6"
      },
      "source": [
        "### Conditional Statements\n",
        "Conditional statements allow you to control the flow of a program based on certain conditions. You can play around by changing the value of `x`."
      ]
    },
    {
      "cell_type": "code",
      "execution_count": 5,
      "metadata": {
        "colab": {
          "base_uri": "https://localhost:8080/"
        },
        "id": "q6P1MKn9Y2P6",
        "outputId": "c27add3c-4dba-4dca-caa0-47697a3aef8e"
      },
      "outputs": [
        {
          "output_type": "stream",
          "name": "stdout",
          "text": [
            "x is less than or equal to 10\n"
          ]
        }
      ],
      "source": [
        "x = 10\n",
        "if x > 10:\n",
        "    print(\"x is greater than 10\")\n",
        "else:\n",
        "    print(\"x is less than or equal to 10\")"
      ]
    },
    {
      "cell_type": "markdown",
      "metadata": {
        "id": "WQqIdbvCY2P6"
      },
      "source": [
        "### Loops\n",
        "Loops allow you to repeat a block of code multiple times. There are two types of loops in Python: `for` and `while` loops."
      ]
    },
    {
      "cell_type": "code",
      "execution_count": 6,
      "metadata": {
        "colab": {
          "base_uri": "https://localhost:8080/"
        },
        "id": "dsIlKvgcY2P6",
        "outputId": "a6e65a98-6215-4aea-98f2-23d83dc0a328"
      },
      "outputs": [
        {
          "output_type": "stream",
          "name": "stdout",
          "text": [
            "apple\n",
            "banana\n",
            "cherry\n"
          ]
        }
      ],
      "source": [
        "# For Loop\n",
        "fruits = [\"apple\", \"banana\", \"cherry\"]\n",
        "for fruit in fruits:\n",
        "    print(fruit)\n",
        "\n",
        "# Output:\n",
        "# apple\n",
        "# banana\n",
        "# cherry"
      ]
    },
    {
      "cell_type": "code",
      "execution_count": 7,
      "metadata": {
        "colab": {
          "base_uri": "https://localhost:8080/"
        },
        "id": "oRUDHzuBY2P6",
        "outputId": "ed74b88f-542d-4476-d279-aff51acc50a9"
      },
      "outputs": [
        {
          "output_type": "stream",
          "name": "stdout",
          "text": [
            "0\n",
            "1\n",
            "2\n",
            "3\n",
            "4\n"
          ]
        }
      ],
      "source": [
        "# While Loop\n",
        "x = 0\n",
        "while x < 5:\n",
        "    print(x)\n",
        "    x += 1\n",
        "\n",
        "# Output:\n",
        "# 0\n",
        "# 1\n",
        "# 2\n",
        "# 3\n",
        "# 4"
      ]
    },
    {
      "cell_type": "markdown",
      "metadata": {
        "id": "3FBh1fElY2P6"
      },
      "source": [
        "### Functions\n",
        "Functions are reusable blocks of code that perform a specific task. You can define functions using the `def` keyword."
      ]
    },
    {
      "cell_type": "code",
      "execution_count": 8,
      "metadata": {
        "colab": {
          "base_uri": "https://localhost:8080/"
        },
        "id": "BNczvSXUY2P7",
        "outputId": "f2ff6976-d599-43b5-bcb6-4dd22bb45313"
      },
      "outputs": [
        {
          "output_type": "stream",
          "name": "stdout",
          "text": [
            "Hello, Philippe\n"
          ]
        }
      ],
      "source": [
        "def greet(name):\n",
        "    print(\"Hello, \" + name)\n",
        "\n",
        "greet(\"Philippe\") # Output: Hello, Philippe"
      ]
    },
    {
      "cell_type": "markdown",
      "metadata": {
        "id": "vHji6d2eY2P7"
      },
      "source": [
        "## Additional examples\n",
        "\n",
        "You can copy any of that code to make it run in a `code` cell.\n",
        "\n",
        "### Numbers\n",
        "\n",
        "```python\n",
        "# Addition\n",
        "x = 5\n",
        "y = 10\n",
        "z = x + y\n",
        "print(z) # Output: 15\n",
        "\n",
        "# Subtraction\n",
        "x = 15\n",
        "y = 10\n",
        "z = x - y\n",
        "print(z) # Output: 5\n",
        "\n",
        "# Multiplication\n",
        "x = 5\n",
        "y = 10\n",
        "z = x * y\n",
        "print(z) # Output: 50\n",
        "\n",
        "# Division\n",
        "x = 15\n",
        "y = 10\n",
        "z = x / y\n",
        "print(z) # Output: 1.5\n",
        "\n",
        "# Modulo\n",
        "x = 15\n",
        "y = 10\n",
        "z = x % y\n",
        "print(z) # Output: 5\n",
        "\n",
        "# Exponentiation\n",
        "x = 5\n",
        "y = 2\n",
        "z = x ** y\n",
        "print(z) # Output: 25\n",
        "```\n",
        "\n",
        "Just create a `code` cell below to run selected examples."
      ]
    },
    {
      "cell_type": "code",
      "source": [
        "x = 5\n",
        "y = 10\n",
        "z = x+y\n",
        "print(z)"
      ],
      "metadata": {
        "colab": {
          "base_uri": "https://localhost:8080/"
        },
        "id": "YlDjYj6DaKFe",
        "outputId": "bba66100-d3b3-4cf8-b1ea-0b74c82aaf74"
      },
      "execution_count": 9,
      "outputs": [
        {
          "output_type": "stream",
          "name": "stdout",
          "text": [
            "15\n"
          ]
        }
      ]
    },
    {
      "cell_type": "code",
      "source": [
        "x = 5\n",
        "y = 10\n",
        "z = x-y\n",
        "print(z)"
      ],
      "metadata": {
        "colab": {
          "base_uri": "https://localhost:8080/"
        },
        "id": "DwKNWmKHaT4n",
        "outputId": "2d49c312-f4c2-4963-93cd-28cd3a389e94"
      },
      "execution_count": 10,
      "outputs": [
        {
          "output_type": "stream",
          "name": "stdout",
          "text": [
            "-5\n"
          ]
        }
      ]
    },
    {
      "cell_type": "code",
      "source": [
        "x = 15\n",
        "y = 10\n",
        "z = x*y\n",
        "print(z)"
      ],
      "metadata": {
        "colab": {
          "base_uri": "https://localhost:8080/"
        },
        "id": "nIlclKDjaYur",
        "outputId": "d032ae46-b557-4d28-ff83-d2de2a1c6428"
      },
      "execution_count": 12,
      "outputs": [
        {
          "output_type": "stream",
          "name": "stdout",
          "text": [
            "150\n"
          ]
        }
      ]
    },
    {
      "cell_type": "markdown",
      "metadata": {
        "id": "QH55D5Y4Y2P7"
      },
      "source": [
        "### Strings\n",
        "\n",
        "```python\n",
        "first_name = \"John\"\n",
        "last_name = \"Smith\"\n",
        "full_name = first_name + \" \" + last_name\n",
        "print(full_name) # Output: John Smith\n",
        "\n",
        "# Repetition\n",
        "x = \"hello\"\n",
        "y = x * 3\n",
        "print(y) # Output: hellohellohello\n",
        "\n",
        "# Indexing\n",
        "x = \"hello\"\n",
        "print(x[0]) # First element -> Output: h\n",
        "print(x[-1]) # Last element -> Output: o\n",
        "\n",
        "# Slicing\n",
        "x = \"hello\"\n",
        "print(x[1:4]) # Output: ell\n",
        "print(x[:3]) # Output: hel\n",
        "print(x[1:]) # Output: ello\n",
        "\n",
        "# Membership\n",
        "x = \"hello\"\n",
        "print(\"h\" in x) # Output: True\n",
        "print(\"z\" in x) # Output: False\n",
        "```"
      ]
    },
    {
      "cell_type": "code",
      "source": [
        "firstname = \"Alicia\"\n",
        "lastname = \"Lauwers\"\n",
        "fullname = firstname + \" \" + lastname\n",
        "print(fullname)"
      ],
      "metadata": {
        "colab": {
          "base_uri": "https://localhost:8080/"
        },
        "id": "R6Atsw4yagA-",
        "outputId": "b0f42bd2-134e-4fff-8861-cf9304d1a369"
      },
      "execution_count": 15,
      "outputs": [
        {
          "output_type": "stream",
          "name": "stdout",
          "text": [
            "Alicia Lauwers\n"
          ]
        }
      ]
    },
    {
      "cell_type": "code",
      "source": [
        "x = \"hello\"\n",
        "y = x*3\n",
        "z = 3*x\n",
        "print(y,z)"
      ],
      "metadata": {
        "colab": {
          "base_uri": "https://localhost:8080/"
        },
        "id": "upQz9ArjasM2",
        "outputId": "d1c5d6bb-51a8-42da-ba8b-02daa7e1bc7a"
      },
      "execution_count": 16,
      "outputs": [
        {
          "output_type": "stream",
          "name": "stdout",
          "text": [
            "hellohellohello hellohellohello\n"
          ]
        }
      ]
    },
    {
      "cell_type": "code",
      "source": [
        "x = \"hello\"\n",
        "print(x[0])\n",
        "print(x[-1])"
      ],
      "metadata": {
        "colab": {
          "base_uri": "https://localhost:8080/"
        },
        "id": "_L0Rp7MFazbe",
        "outputId": "6f0ac6c7-606f-4475-d257-0d62405a6655"
      },
      "execution_count": 17,
      "outputs": [
        {
          "output_type": "stream",
          "name": "stdout",
          "text": [
            "h\n",
            "o\n"
          ]
        }
      ]
    },
    {
      "cell_type": "code",
      "source": [
        "x = \"hello\"\n",
        "print(x[1:4])\n",
        "print(x[0:3])"
      ],
      "metadata": {
        "colab": {
          "base_uri": "https://localhost:8080/"
        },
        "id": "rtAMsGLLa84e",
        "outputId": "4bf36c67-396a-4ec7-df4d-076c9cbcf4a5"
      },
      "execution_count": 18,
      "outputs": [
        {
          "output_type": "stream",
          "name": "stdout",
          "text": [
            "ell\n",
            "hel\n"
          ]
        }
      ]
    },
    {
      "cell_type": "code",
      "source": [
        "x = \"hello\"\n",
        "print(\"h\" in x)\n",
        "print(\"z\" in x)"
      ],
      "metadata": {
        "colab": {
          "base_uri": "https://localhost:8080/"
        },
        "id": "l0DpeGWvbIcg",
        "outputId": "5fd48f26-95cb-4862-8256-a4ef095f0fc9"
      },
      "execution_count": 19,
      "outputs": [
        {
          "output_type": "stream",
          "name": "stdout",
          "text": [
            "True\n",
            "False\n"
          ]
        }
      ]
    },
    {
      "cell_type": "markdown",
      "metadata": {
        "id": "CCWkPn21Y2P7"
      },
      "source": [
        "### Lists\n",
        "\n",
        "```python\n",
        "# Indexing\n",
        "fruits = [\"apple\", \"banana\", \"cherry\"]\n",
        "print(fruits[0]) # Output: apple\n",
        "print(fruits[-1]) # Output: cherry\n",
        "\n",
        "# Slicing\n",
        "fruits = [\"apple\", \"banana\", \"cherry\"]\n",
        "print(fruits[1:3]) # Output: ['banana', 'cherry']\n",
        "\n",
        "# Membership\n",
        "fruits = [\"apple\", \"banana\", \"cherry\"]\n",
        "print(\"apple\" in fruits) # Output: True\n",
        "print(\"orange\" in fruits) # Output: False\n",
        "\n",
        "# Length\n",
        "fruits = [\"apple\", \"banana\", \"cherry\"]\n",
        "print(len(fruits)) # Output: 3\n",
        "\n",
        "# Append\n",
        "fruits = [\"apple\", \"banana\", \"cherry\"]\n",
        "fruits.append(\"orange\")\n",
        "print(fruits) # Output: ['apple', 'banana', 'cherry', 'orange']\n",
        "\n",
        "# Insert\n",
        "fruits = [\"apple\", \"banana\", \"cherry\"]\n",
        "fruits.insert(1, \"orange\")\n",
        "print(fruits) # Output: ['apple', 'orange', 'banana', 'cherry']\n",
        "\n",
        "# Remove\n",
        "fruits = [\"apple\", \"banana\", \"cherry\"]\n",
        "fruits.remove(\"banana\")\n",
        "print(fruits) # Output: ['apple', 'cherry']\n",
        "\n",
        "# Pop\n",
        "fruits = [\"apple\", \"banana\", \"cherry\"]\n",
        "x = fruits.pop()\n",
        "print(x) # Output: cherry\n",
        "print(fruits) # Output: ['apple', 'banana']\n",
        "```"
      ]
    },
    {
      "cell_type": "code",
      "source": [
        "fruits = [\"apple\",\"banana\",\"cherry\"]\n",
        "print(fruits[0])\n",
        "print(fruits[-1])"
      ],
      "metadata": {
        "colab": {
          "base_uri": "https://localhost:8080/"
        },
        "id": "J_IZNsj2bRNv",
        "outputId": "490eee96-2b17-4bda-9332-91902dc6c488"
      },
      "execution_count": 21,
      "outputs": [
        {
          "output_type": "stream",
          "name": "stdout",
          "text": [
            "apple\n",
            "cherry\n"
          ]
        }
      ]
    },
    {
      "cell_type": "code",
      "source": [
        "fruits = [\"apple\",\"banana\",\"cherry\"]\n",
        "print(fruits[1:3])\n",
        "print(\"apple\" in fruits)\n",
        "print(\"orange\" in fruits)\n",
        "print(len(fruits))\n",
        "fruits.append(\"orange\")\n",
        "print(fruits)"
      ],
      "metadata": {
        "colab": {
          "base_uri": "https://localhost:8080/"
        },
        "id": "x-C7xSpDbdYB",
        "outputId": "943c4086-7b22-4711-bb83-c86360ca9a2b"
      },
      "execution_count": 32,
      "outputs": [
        {
          "output_type": "stream",
          "name": "stdout",
          "text": [
            "['banana', 'cherry']\n",
            "True\n",
            "False\n",
            "3\n",
            "['apple', 'banana', 'cherry', 'orange']\n"
          ]
        }
      ]
    },
    {
      "cell_type": "code",
      "source": [
        "print(fruits)\n",
        "fruits.insert(0,\"orange\")\n",
        "print(fruits)"
      ],
      "metadata": {
        "colab": {
          "base_uri": "https://localhost:8080/"
        },
        "id": "FiXINJcnbwbb",
        "outputId": "a9e510e4-f50b-462f-b483-83c4db1d7341"
      },
      "execution_count": 33,
      "outputs": [
        {
          "output_type": "stream",
          "name": "stdout",
          "text": [
            "['apple', 'banana', 'cherry', 'orange']\n",
            "['orange', 'apple', 'banana', 'cherry', 'orange']\n"
          ]
        }
      ]
    },
    {
      "cell_type": "code",
      "source": [
        "fruits.remove(\"banana\")\n",
        "print(fruits)"
      ],
      "metadata": {
        "colab": {
          "base_uri": "https://localhost:8080/"
        },
        "id": "9gwTahCdcJZL",
        "outputId": "6a8ebd25-c37d-43ec-b762-f1ddcd1b714e"
      },
      "execution_count": 34,
      "outputs": [
        {
          "output_type": "stream",
          "name": "stdout",
          "text": [
            "['orange', 'apple', 'cherry', 'orange']\n"
          ]
        }
      ]
    },
    {
      "cell_type": "code",
      "source": [
        "x = fruits.pop()\n",
        "print(x)\n",
        "print(fruits)"
      ],
      "metadata": {
        "colab": {
          "base_uri": "https://localhost:8080/"
        },
        "id": "nDjWiSmGcQHr",
        "outputId": "95c42440-e6e3-49fb-d244-43d6739b2bbb"
      },
      "execution_count": 35,
      "outputs": [
        {
          "output_type": "stream",
          "name": "stdout",
          "text": [
            "orange\n",
            "['orange', 'apple', 'cherry']\n"
          ]
        }
      ]
    },
    {
      "cell_type": "markdown",
      "metadata": {
        "id": "rhwyZMB8Y2P7"
      },
      "source": [
        "### Tuples\n",
        "```python\n",
        "# Indexing\n",
        "person = (\"John\", \"Doe\", 30)\n",
        "print(person[0]) # Output: John\n",
        "print(person[-1]) # Output: 30\n",
        "\n",
        "# Slicing\n",
        "person = (\"John\", \"Doe\", 30)\n",
        "print(person[1:3]) # Output: ('Doe', 30)\n",
        "\n",
        "# Membership\n",
        "person = (\"John\", \"Doe\", 30)\n",
        "print(\"John\" in person) # Output: True\n",
        "print(\"Jane\" in person) # Output: False\n",
        "\n",
        "# Length\n",
        "person = (\"John\", \"Doe\", 30)\n",
        "print(len(person)) # Output: 3\n",
        "```"
      ]
    },
    {
      "cell_type": "code",
      "source": [
        "person = (\"John\", \"Doe\", 30)\n",
        "print(person[0])\n",
        "print(person[-1])\n",
        "print(person[-2])\n",
        "print(person[-3])"
      ],
      "metadata": {
        "colab": {
          "base_uri": "https://localhost:8080/"
        },
        "id": "1LJ976eMcZ4R",
        "outputId": "ab0ca08a-cf15-4ca2-f1de-0fd77d556f21"
      },
      "execution_count": 40,
      "outputs": [
        {
          "output_type": "stream",
          "name": "stdout",
          "text": [
            "John\n",
            "30\n",
            "Doe\n",
            "John\n"
          ]
        }
      ]
    },
    {
      "cell_type": "code",
      "source": [
        "print(person[1:3])"
      ],
      "metadata": {
        "colab": {
          "base_uri": "https://localhost:8080/"
        },
        "id": "JDLpuCXMcm_1",
        "outputId": "55848bb6-495d-4704-a3fe-438d104f9b90"
      },
      "execution_count": 41,
      "outputs": [
        {
          "output_type": "stream",
          "name": "stdout",
          "text": [
            "('Doe', 30)\n"
          ]
        }
      ]
    },
    {
      "cell_type": "code",
      "source": [
        "print(\"John\" in person)\n",
        "print(\"Jane\" in person)\n",
        "print(len(person))"
      ],
      "metadata": {
        "colab": {
          "base_uri": "https://localhost:8080/"
        },
        "id": "QQTkYEzzcqXY",
        "outputId": "bbe68b2c-d344-4bff-9c1a-3e4577739a98"
      },
      "execution_count": 43,
      "outputs": [
        {
          "output_type": "stream",
          "name": "stdout",
          "text": [
            "True\n",
            "False\n",
            "3\n"
          ]
        }
      ]
    },
    {
      "cell_type": "markdown",
      "metadata": {
        "id": "UdBhQXbZY2P7"
      },
      "source": [
        "## Dictionaries\n",
        "\n",
        "```python\n",
        "# Indexing\n",
        "person = {\n",
        "    \"first_name\": \"John\",\n",
        "    \"last\n",
        "last_name\": \"Doe\",\n",
        "    \"age\": 30\n",
        "}\n",
        "print(person[\"first_name\"]) # Output: John\n",
        "\n",
        "# Membership\n",
        "person = {\n",
        "    \"first_name\": \"John\",\n",
        "    \"last_name\": \"Doe\",\n",
        "    \"age\": 30\n",
        "}\n",
        "print(\"first_name\" in person) # Output: True\n",
        "print(\"email\" in person) # Output: False\n",
        "\n",
        "# Length\n",
        "person = {\n",
        "    \"first_name\": \"John\",\n",
        "    \"last_name\": \"Doe\",\n",
        "    \"age\": 30\n",
        "}\n",
        "print(len(person)) # Output: 3\n",
        "\n",
        "# Adding key-value pairs\n",
        "person = {\n",
        "    \"first_name\": \"John\",\n",
        "    \"last_name\": \"Doe\",\n",
        "    \"age\": 30\n",
        "}\n",
        "person[\"email\"] = \"johndoe@email.com\"\n",
        "print(person) # Output: {'first_name': 'John', 'last_name': 'Doe', 'age': 30, 'email': 'johndoe@email.com'}\n",
        "\n",
        "# Modifying values\n",
        "person = {\n",
        "    \"first_name\": \"John\",\n",
        "    \"last_name\": \"Doe\",\n",
        "    \"age\": 30\n",
        "}\n",
        "person[\"first_name\"] = \"Jane\"\n",
        "print(person) # Output: {'first_name': 'Jane', 'last_name': 'Doe', 'age': 30}\n",
        "\n",
        "# Removing key-value pairs\n",
        "person = {\n",
        "    \"first_name\": \"John\",\n",
        "    \"last_name\": \"Doe\",\n",
        "    \"age\": 30\n",
        "}\n",
        "del person[\"age\"]\n",
        "print(person) # Output: {'first_name': 'John', 'last_name': 'Doe'}\n",
        "\n",
        "```"
      ]
    },
    {
      "cell_type": "code",
      "source": [
        "person = {\"firstname\":\"John\",\"lastname\":\"Doe\",\"age\":30}\n",
        "print(person[\"firstname\"])\n",
        "print(\"firstname\" in person)\n",
        "print(\"email\" in person)\n",
        "print(len(person))\n",
        "person[\"email\"] = \"johndoe@email.com\"\n",
        "print(person)\n",
        "person[\"firstname\"]=\"Jane\"\n",
        "print(person)\n",
        "del person[\"age\"]\n",
        "print(person)"
      ],
      "metadata": {
        "colab": {
          "base_uri": "https://localhost:8080/"
        },
        "id": "EPjtitLsc03X",
        "outputId": "c24674f6-8a42-40fe-8c55-8f96c7e17140"
      },
      "execution_count": 51,
      "outputs": [
        {
          "output_type": "stream",
          "name": "stdout",
          "text": [
            "John\n",
            "True\n",
            "False\n",
            "3\n",
            "{'firstname': 'John', 'lastname': 'Doe', 'age': 30, 'email': 'johndoe@email.com'}\n",
            "{'firstname': 'Jane', 'lastname': 'Doe', 'age': 30, 'email': 'johndoe@email.com'}\n",
            "{'firstname': 'Jane', 'lastname': 'Doe', 'email': 'johndoe@email.com'}\n"
          ]
        }
      ]
    },
    {
      "cell_type": "markdown",
      "metadata": {
        "id": "Gt6o6hpXY2P7"
      },
      "source": [
        "This is just a brief introduction to Python programming. There are many more advanced topics and features in Python, but these basics should give you a good start.\n",
        "\n",
        "If you want more exercises for basic Python Programming go through the `Intro to Programming` and `Python` courses on [Kaggle Learn](https://www.kaggle.com/learn)."
      ]
    }
  ],
  "metadata": {
    "colab": {
      "provenance": [],
      "include_colab_link": true
    },
    "kernelspec": {
      "display_name": "Python 3.9.12 ('base')",
      "language": "python",
      "name": "python3"
    },
    "language_info": {
      "codemirror_mode": {
        "name": "ipython",
        "version": 3
      },
      "file_extension": ".py",
      "mimetype": "text/x-python",
      "name": "python",
      "nbconvert_exporter": "python",
      "pygments_lexer": "ipython3",
      "version": "3.9.12"
    },
    "orig_nbformat": 4,
    "vscode": {
      "interpreter": {
        "hash": "1be16fbddf550357e4e46540ee01bc6d12a48d7bc56fc8427cd30121d5943dc8"
      }
    }
  },
  "nbformat": 4,
  "nbformat_minor": 0
}